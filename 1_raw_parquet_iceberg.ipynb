{
 "cells": [
  {
   "cell_type": "code",
   "execution_count": 1,
   "id": "4fc0ca80",
   "metadata": {},
   "outputs": [],
   "source": [
    "from tqdm import tqdm\n",
    "import pandas as pd\n",
    "from pyspark.sql import SparkSession\n",
    "from pyspark.sql.functions import col, round, date_format, to_date, create_map, lit, when, lower, regexp_replace, substring, concat_ws\n",
    "from itertools import chain\n",
    "import os\n",
    "from dotenv import load_dotenv\n",
    "load_dotenv()\n",
    "\n",
    "from datetime import datetime\n",
    "def log(msg):\n",
    "    tqdm.write(f\"[{datetime.now():%Y-%m-%d %H:%M:%S}] {msg}\")"
   ]
  },
  {
   "cell_type": "code",
   "execution_count": 2,
   "id": "17960410",
   "metadata": {},
   "outputs": [],
   "source": [
    "# 📌 Bibliotecas Padrão do Python\n",
    "import logging\n",
    "import warnings\n",
    "import itertools\n",
    "from datetime import datetime\n",
    "from typing import Literal\n",
    "\n",
    "# 📌 Manipulação de Dados\n",
    "import pandas as pd\n",
    "import numpy as np\n",
    "\n",
    "# 📌 Visualização\n",
    "import matplotlib.pyplot as plt\n",
    "import seaborn as sns\n",
    "import plotly.express as px\n",
    "import plotly.graph_objects as go\n",
    "\n",
    "from datetime import datetime\n",
    "\n",
    "\n",
    "\n",
    "# 📌 Barras de Progresso\n",
    "from tqdm import tqdm\n",
    "\n",
    "# 📌 Configurações Globais para Melhor Exibição dos Dados\n",
    "warnings.simplefilter(action=\"ignore\", category=UserWarning)  # Ignorar avisos gerais do usuário\n",
    "warnings.simplefilter(action=\"ignore\", category=FutureWarning)  # Ignorar avisos de futuras mudanças\n",
    "\n",
    "# Exibição de ponto flutuante sem notação científica\n",
    "pd.options.display.float_format = \"{:.2f}\".format\n",
    "# Configuração do número máximo de colunas e linhas exibidas\n",
    "pd.set_option(\"display.max_columns\", 500)\n",
    "pd.set_option(\"display.max_rows\", 65)\n",
    "\n",
    "# Configuração do backend de gráficos\n",
    "pd.options.plotting.backend = \"plotly\"\n",
    "pd.options.display.colheader_justify = \"center\""
   ]
  },
  {
   "cell_type": "code",
   "execution_count": 5,
   "id": "50638b24",
   "metadata": {},
   "outputs": [
    {
     "name": "stderr",
     "output_type": "stream",
     "text": [
      "25/05/12 11:07:42 WARN SparkSession: Using an existing Spark session; only runtime SQL configurations will take effect.\n"
     ]
    }
   ],
   "source": [
    "from pyspark.sql import SparkSession\n",
    "\n",
    "raw_warehouse_path = \"/home/pedromurta/projects/observatorio/caged/data/observatorio_caged/raw/\"\n",
    "bronze_warehouse_path = \"/home/pedromurta/projects/observatorio/caged/data/observatorio_caged/bronze/\"\n",
    "\n",
    "spark = SparkSession.builder \\\n",
    "    .appName(\"Salvar CAGED Iceberg\") \\\n",
    "    .config(\"spark.sql.catalog.raw\", \"org.apache.iceberg.spark.SparkCatalog\") \\\n",
    "    .config(\"spark.sql.catalog.raw.type\", \"hadoop\") \\\n",
    "    .config(\"spark.sql.catalog.raw.warehouse\", raw_warehouse_path) \\\n",
    "    .config(\"spark.sql.catalog.bronze\", \"org.apache.iceberg.spark.SparkCatalog\") \\\n",
    "    .config(\"spark.sql.catalog.bronze.type\", \"hadoop\") \\\n",
    "    .config(\"spark.sql.catalog.bronze.warehouse\", bronze_warehouse_path) \\\n",
    "    .config(\"spark.sql.shuffle.partitions\", \"200\") \\\n",
    "    .config(\"spark.memory.fraction\", \"0.6\") \\\n",
    "    .config(\"spark.memory.storageFraction\", \"0.3\") \\\n",
    "    .config(\"spark.driver.memory\", \"8g\") \\\n",
    "    .config(\"spark.executor.memory\", \"8g\") \\\n",
    "    .config(\"spark.driver.memoryOverhead\", \"2g\") \\\n",
    "    .config(\"spark.executor.memoryOverhead\", \"2g\") \\\n",
    "    .getOrCreate()\n"
   ]
  },
  {
   "cell_type": "code",
   "execution_count": 9,
   "id": "cbeb9fcd",
   "metadata": {},
   "outputs": [],
   "source": [
    "# Leitura dos Parquets\n",
    "df_mov = spark.read.parquet(f\"{raw_warehouse_path}/parquet/mov/*\")\n",
    "df_for = spark.read.parquet(f\"{raw_warehouse_path}/parquet/for/*\")"
   ]
  },
  {
   "cell_type": "code",
   "execution_count": 10,
   "id": "b5609b04",
   "metadata": {},
   "outputs": [
    {
     "name": "stdout",
     "output_type": "stream",
     "text": [
      "root\n",
      " |-- competencia: integer (nullable = true)\n",
      " |-- uf: integer (nullable = true)\n",
      " |-- municipio: integer (nullable = true)\n",
      " |-- secao: string (nullable = true)\n",
      " |-- sub_classe: integer (nullable = true)\n",
      " |-- saldo_movimentacao: integer (nullable = true)\n",
      " |-- codigo_cbo: integer (nullable = true)\n",
      " |-- escolaridade: integer (nullable = true)\n",
      " |-- idade: integer (nullable = true)\n",
      " |-- etnia: integer (nullable = true)\n",
      " |-- sexo: integer (nullable = true)\n",
      " |-- salario: double (nullable = true)\n",
      " |-- salario_fixo: double (nullable = true)\n",
      "\n"
     ]
    }
   ],
   "source": [
    "df_mov.printSchema()"
   ]
  },
  {
   "cell_type": "code",
   "execution_count": 11,
   "id": "e19c7ed5",
   "metadata": {},
   "outputs": [
    {
     "name": "stdout",
     "output_type": "stream",
     "text": [
      "root\n",
      " |-- competencia: integer (nullable = true)\n",
      " |-- uf: integer (nullable = true)\n",
      " |-- municipio: integer (nullable = true)\n",
      " |-- secao: string (nullable = true)\n",
      " |-- sub_classe: integer (nullable = true)\n",
      " |-- saldo_movimentacao: integer (nullable = true)\n",
      " |-- codigo_cbo: integer (nullable = true)\n",
      " |-- escolaridade: integer (nullable = true)\n",
      " |-- idade: integer (nullable = true)\n",
      " |-- etnia: integer (nullable = true)\n",
      " |-- sexo: integer (nullable = true)\n",
      " |-- salario: double (nullable = true)\n",
      " |-- salario_fixo: double (nullable = true)\n",
      "\n"
     ]
    }
   ],
   "source": [
    "df_for.printSchema()"
   ]
  },
  {
   "cell_type": "code",
   "execution_count": 12,
   "id": "0b8c175c",
   "metadata": {},
   "outputs": [],
   "source": [
    "# União\n",
    "df = df_mov.unionByName(df_for)"
   ]
  },
  {
   "cell_type": "code",
   "execution_count": 13,
   "id": "06aa7b7c",
   "metadata": {},
   "outputs": [
    {
     "name": "stdout",
     "output_type": "stream",
     "text": [
      "+-----------+---+---------+-----+----------+------------------+----------+------------+-----+-----+----+-------+------------+\n",
      "|competencia|uf |municipio|secao|sub_classe|saldo_movimentacao|codigo_cbo|escolaridade|idade|etnia|sexo|salario|salario_fixo|\n",
      "+-----------+---+---------+-----+----------+------------------+----------+------------+-----+-----+----+-------+------------+\n",
      "|202502     |41 |410840   |M    |7112000   |-1                |715315    |7           |33   |1    |1   |2752.2 |2752.2      |\n",
      "|202502     |29 |290320   |G    |4781400   |1                 |521110    |7           |22   |3    |3   |1518.0 |1518.0      |\n",
      "|202502     |26 |261160   |G    |4781400   |1                 |763015    |7           |55   |1    |3   |2500.0 |2500.0      |\n",
      "|202502     |33 |330455   |I    |5620102   |1                 |513405    |7           |46   |3    |1   |0.0    |0.0         |\n",
      "|202502     |35 |350920   |M    |7119701   |1                 |312320    |7           |29   |3    |1   |1800.0 |1800.0      |\n",
      "+-----------+---+---------+-----+----------+------------------+----------+------------+-----+-----+----+-------+------------+\n",
      "only showing top 5 rows\n",
      "\n"
     ]
    }
   ],
   "source": [
    "df.show(5, truncate=False)"
   ]
  },
  {
   "cell_type": "code",
   "execution_count": 14,
   "id": "1dd08667",
   "metadata": {},
   "outputs": [
    {
     "name": "stderr",
     "output_type": "stream",
     "text": [
      "                                                                                \r"
     ]
    },
    {
     "name": "stdout",
     "output_type": "stream",
     "text": [
      "mov = 215005373\n",
      "----------------\n",
      "for = 7726496\n",
      "----------------\n",
      "total = 222731869\n"
     ]
    },
    {
     "name": "stderr",
     "output_type": "stream",
     "text": [
      "                                                                                \r"
     ]
    }
   ],
   "source": [
    "print(f'mov = {df_mov.count()}' )\n",
    "print('----------------')\n",
    "print(f'for = {df_for.count()}' )\n",
    "print('----------------')\n",
    "print(f'total = {df.count()}' )"
   ]
  },
  {
   "cell_type": "code",
   "execution_count": 21,
   "id": "d23720c4",
   "metadata": {},
   "outputs": [
    {
     "data": {
      "text/plain": [
       "DataFrame[]"
      ]
     },
     "execution_count": 21,
     "metadata": {},
     "output_type": "execute_result"
    }
   ],
   "source": [
    "# Escreve df_mov na camada RAW\n",
    "catalog_name = \"raw\"\n",
    "schema_name = \"default\"\n",
    "table_name_mov = \"caged_mov\"\n",
    "\n",
    "spark.sql(\"DROP TABLE IF EXISTS raw.default.caged_mov\")"
   ]
  },
  {
   "cell_type": "code",
   "execution_count": 22,
   "id": "23dc4f44",
   "metadata": {},
   "outputs": [
    {
     "name": "stderr",
     "output_type": "stream",
     "text": [
      "                                                                                \r"
     ]
    }
   ],
   "source": [
    "# Escreve df_mov na camada RAW\n",
    "catalog_name = \"raw\"\n",
    "schema_name = \"default\"\n",
    "table_name_mov = \"caged_mov\"\n",
    "\n",
    "df_mov.writeTo(f\"{catalog_name}.{schema_name}.{table_name_mov}\") \\\n",
    "    .partitionedBy(\"competencia\") \\\n",
    "    .create()\n"
   ]
  },
  {
   "cell_type": "code",
   "execution_count": 23,
   "id": "b1a28e60",
   "metadata": {},
   "outputs": [
    {
     "name": "stderr",
     "output_type": "stream",
     "text": [
      "                                                                                \r"
     ]
    }
   ],
   "source": [
    "# Escreve df_for na camada RAW\n",
    "table_name_for = \"caged_for\"\n",
    "\n",
    "df_for.writeTo(f\"{catalog_name}.{schema_name}.{table_name_for}\") \\\n",
    "    .partitionedBy(\"competencia\") \\\n",
    "    .create()\n"
   ]
  },
  {
   "cell_type": "code",
   "execution_count": 24,
   "id": "38ad4559",
   "metadata": {},
   "outputs": [
    {
     "name": "stderr",
     "output_type": "stream",
     "text": [
      "                                                                                \r"
     ]
    }
   ],
   "source": [
    "# Escreve df_union na camada BRONZE\n",
    "catalog_bronze = \"bronze\"\n",
    "schema_name_bronze = \"default\"\n",
    "table_name_bronze = \"caged\"\n",
    "\n",
    "df.writeTo(f\"{catalog_bronze}.{schema_name_bronze}.{table_name_bronze}\") \\\n",
    "    .partitionedBy(\"competencia\") \\\n",
    "    .create()"
   ]
  },
  {
   "cell_type": "code",
   "execution_count": 25,
   "id": "b26512ef",
   "metadata": {},
   "outputs": [],
   "source": [
    "spark.stop()"
   ]
  },
  {
   "cell_type": "code",
   "execution_count": null,
   "id": "6bafc135",
   "metadata": {},
   "outputs": [],
   "source": []
  }
 ],
 "metadata": {
  "kernelspec": {
   "display_name": ".venv",
   "language": "python",
   "name": "python3"
  },
  "language_info": {
   "codemirror_mode": {
    "name": "ipython",
    "version": 3
   },
   "file_extension": ".py",
   "mimetype": "text/x-python",
   "name": "python",
   "nbconvert_exporter": "python",
   "pygments_lexer": "ipython3",
   "version": "3.10.12"
  }
 },
 "nbformat": 4,
 "nbformat_minor": 5
}
