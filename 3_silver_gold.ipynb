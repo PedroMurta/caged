{
 "cells": [
  {
   "cell_type": "code",
   "execution_count": null,
   "id": "ffdc55a4",
   "metadata": {},
   "outputs": [],
   "source": [
    "from tqdm import tqdm\n",
    "import pandas as pd\n",
    "from pyspark.sql import SparkSession\n",
    "from pyspark.sql.functions import col, round, date_format, to_date, create_map, lit, when, lower, regexp_replace, substring, concat_ws\n",
    "from pyspark.sql import functions as F\n",
    "from pyspark.sql import Window\n",
    "from itertools import chain\n",
    "import os\n",
    "from dotenv import load_dotenv\n",
    "load_dotenv()\n",
    "\n",
    "from datetime import datetime\n",
    "def log(msg):\n",
    "    tqdm.write(f\"[{datetime.now():%Y-%m-%d %H:%M:%S}] {msg}\")"
   ]
  },
  {
   "cell_type": "code",
   "execution_count": 2,
   "id": "77483989",
   "metadata": {},
   "outputs": [],
   "source": [
    "# 📌 Bibliotecas Padrão do Python\n",
    "import logging\n",
    "import warnings\n",
    "import itertools\n",
    "from datetime import datetime\n",
    "from typing import Literal\n",
    "\n",
    "# 📌 Manipulação de Dados\n",
    "import pandas as pd\n",
    "import numpy as np\n",
    "\n",
    "# 📌 Visualização\n",
    "import matplotlib.pyplot as plt\n",
    "import seaborn as sns\n",
    "import plotly.express as px\n",
    "import plotly.graph_objects as go\n",
    "\n",
    "from datetime import datetime\n",
    "\n",
    "\n",
    "\n",
    "# 📌 Barras de Progresso\n",
    "from tqdm import tqdm\n",
    "\n",
    "# 📌 Configurações Globais para Melhor Exibição dos Dados\n",
    "warnings.simplefilter(action=\"ignore\", category=UserWarning)  # Ignorar avisos gerais do usuário\n",
    "warnings.simplefilter(action=\"ignore\", category=FutureWarning)  # Ignorar avisos de futuras mudanças\n",
    "\n",
    "# Exibição de ponto flutuante sem notação científica\n",
    "pd.options.display.float_format = \"{:.2f}\".format\n",
    "# Configuração do número máximo de colunas e linhas exibidas\n",
    "pd.set_option(\"display.max_columns\", 500)\n",
    "pd.set_option(\"display.max_rows\", 65)\n",
    "\n",
    "# Configuração do backend de gráficos\n",
    "pd.options.plotting.backend = \"plotly\"\n",
    "pd.options.display.colheader_justify = \"center\""
   ]
  },
  {
   "cell_type": "code",
   "execution_count": null,
   "id": "4f38b5a2",
   "metadata": {},
   "outputs": [
    {
     "name": "stderr",
     "output_type": "stream",
     "text": [
      "your 131072x1 screen size is bogus. expect trouble\n",
      "25/05/12 15:55:05 WARN Utils: Your hostname, GEGOVE-DT-09 resolves to a loopback address: 127.0.1.1; using 10.255.255.254 instead (on interface lo)\n",
      "25/05/12 15:55:05 WARN Utils: Set SPARK_LOCAL_IP if you need to bind to another address\n",
      "25/05/12 15:55:06 WARN NativeCodeLoader: Unable to load native-hadoop library for your platform... using builtin-java classes where applicable\n",
      "Setting default log level to \"WARN\".\n",
      "To adjust logging level use sc.setLogLevel(newLevel). For SparkR, use setLogLevel(newLevel).\n"
     ]
    }
   ],
   "source": [
    "# Caminhos das camadas\n",
    "silver_warehouse_path = \"/home/pedromurta/projects/observatorio/caged/data/observatorio_caged/silver\"\n",
    "gold_warehouse_path   = \"/home/pedromurta/projects/observatorio/caged/data/observatorio_caged/gold\"\n",
    "\n",
    "# Inicialização da SparkSession\n",
    "spark = SparkSession.builder \\\n",
    "    .appName(\"Leitura Silver / Escrita Gold\") \\\n",
    "    .config(\"spark.sql.catalog.silver\", \"org.apache.iceberg.spark.SparkCatalog\") \\\n",
    "    .config(\"spark.sql.catalog.silver.type\", \"hadoop\") \\\n",
    "    .config(\"spark.sql.catalog.silver.warehouse\", silver_warehouse_path) \\\n",
    "    .config(\"spark.sql.catalog.gold\", \"org.apache.iceberg.spark.SparkCatalog\") \\\n",
    "    .config(\"spark.sql.catalog.gold.type\", \"hadoop\") \\\n",
    "    .config(\"spark.sql.catalog.gold.warehouse\", gold_warehouse_path) \\\n",
    "    .config(\"spark.sql.shuffle.partitions\", \"200\") \\\n",
    "    .config(\"spark.memory.fraction\", \"0.6\") \\\n",
    "    .config(\"spark.memory.storageFraction\", \"0.3\") \\\n",
    "    .config(\"spark.driver.memory\", \"8g\") \\\n",
    "    .config(\"spark.executor.memory\", \"8g\") \\\n",
    "    .config(\"spark.driver.memoryOverhead\", \"2g\") \\\n",
    "    .config(\"spark.executor.memoryOverhead\", \"2g\") \\\n",
    "    .getOrCreate()\n"
   ]
  },
  {
   "cell_type": "code",
   "execution_count": 4,
   "id": "6ac2a2ea",
   "metadata": {},
   "outputs": [],
   "source": [
    "df_silver = spark.read.table(\"silver.default.caged_silver\")"
   ]
  },
  {
   "cell_type": "code",
   "execution_count": 5,
   "id": "b129b47d",
   "metadata": {},
   "outputs": [],
   "source": [
    "#df_silver.writeTo(\"gold.default.caged_gold\").partitionedBy(\"competencia\").createOrReplace()\n"
   ]
  },
  {
   "cell_type": "code",
   "execution_count": 6,
   "id": "5910a9bb",
   "metadata": {},
   "outputs": [
    {
     "name": "stdout",
     "output_type": "stream",
     "text": [
      "root\n",
      " |-- competencia: string (nullable = true)\n",
      " |-- saldo_movimentacao: integer (nullable = true)\n",
      " |-- secao: string (nullable = true)\n",
      " |-- sub_classe: string (nullable = true)\n",
      " |-- segmento: string (nullable = true)\n",
      " |-- codigo_cbo: string (nullable = true)\n",
      " |-- cbo: string (nullable = true)\n",
      " |-- idade: integer (nullable = true)\n",
      " |-- etnia: string (nullable = true)\n",
      " |-- sexo: string (nullable = true)\n",
      " |-- salario: double (nullable = true)\n",
      " |-- escolaridade: string (nullable = true)\n",
      " |-- uf_sigla: string (nullable = true)\n",
      " |-- regiao: string (nullable = true)\n",
      " |-- admissao: integer (nullable = true)\n",
      " |-- demissao: integer (nullable = true)\n",
      "\n"
     ]
    }
   ],
   "source": [
    "df_silver.printSchema()"
   ]
  },
  {
   "cell_type": "code",
   "execution_count": 7,
   "id": "c7faac66",
   "metadata": {},
   "outputs": [
    {
     "name": "stderr",
     "output_type": "stream",
     "text": [
      "[Stage 0:>                                                          (0 + 1) / 1]\r"
     ]
    },
    {
     "name": "stdout",
     "output_type": "stream",
     "text": [
      "+-----------+------------------+-----+----------+--------+----------+---------------------------------------+-----+------+------+-------+--------------+--------+--------+--------+--------+\n",
      "|competencia|saldo_movimentacao|secao|sub_classe|segmento|codigo_cbo|cbo                                    |idade|etnia |sexo  |salario|escolaridade  |uf_sigla|regiao  |admissao|demissao|\n",
      "+-----------+------------------+-----+----------+--------+----------+---------------------------------------+-----+------+------+-------+--------------+--------+--------+--------+--------+\n",
      "|2025-02    |-1                |M    |7112000   |OUTROS  |715315    |Armador de Estrutura de Concreto Armado|33   |Branca|Homem |2752.2 |Médio Completo|PR      |SUL     |0       |1       |\n",
      "|2025-02    |1                 |G    |4781400   |OUTROS  |521110    |Vendedor de Comercio Varejista         |22   |Parda |Mulher|1518.0 |Médio Completo|BA      |NORDESTE|1       |0       |\n",
      "|2025-02    |1                 |G    |4781400   |OUTROS  |763015    |Costureira de Reparacao de Roupas      |55   |Branca|Mulher|2500.0 |Médio Completo|PE      |NORDESTE|1       |0       |\n",
      "|2025-02    |1                 |I    |5620102   |OUTROS  |513405    |Garcom                                 |46   |Parda |Homem |0.0    |Médio Completo|RJ      |SUDESTE |1       |0       |\n",
      "|2025-02    |1                 |M    |7119701   |OUTROS  |312320    |Topografo                              |29   |Parda |Homem |1800.0 |Médio Completo|SP      |SUDESTE |1       |0       |\n",
      "+-----------+------------------+-----+----------+--------+----------+---------------------------------------+-----+------+------+-------+--------------+--------+--------+--------+--------+\n",
      "only showing top 5 rows\n",
      "\n"
     ]
    },
    {
     "name": "stderr",
     "output_type": "stream",
     "text": [
      "                                                                                \r"
     ]
    }
   ],
   "source": [
    "df_silver.show(5, truncate=False)"
   ]
  },
  {
   "cell_type": "code",
   "execution_count": 8,
   "id": "8d233c02",
   "metadata": {},
   "outputs": [
    {
     "name": "stderr",
     "output_type": "stream",
     "text": [
      "[Stage 1:==================================================>   (327 + 26) / 353]\r"
     ]
    },
    {
     "name": "stdout",
     "output_type": "stream",
     "text": [
      "+-----+--------+\n",
      "|secao|   count|\n",
      "+-----+--------+\n",
      "|    G|52575028|\n",
      "|    N|37464168|\n",
      "|    C|32629433|\n",
      "|    H|29807414|\n",
      "|    F|21745906|\n",
      "|    I|13508468|\n",
      "|    A|11906780|\n",
      "|    Q|10297371|\n",
      "|    M| 7778761|\n",
      "|    P| 6417101|\n",
      "|    J| 4491390|\n",
      "|    S| 4380751|\n",
      "|    K| 2259192|\n",
      "|    R| 1389364|\n",
      "|    E| 1204671|\n",
      "|    O| 1184350|\n",
      "|    L|  822087|\n",
      "|    B|  639000|\n",
      "|    D|  206521|\n",
      "|    T|   12186|\n",
      "+-----+--------+\n",
      "only showing top 20 rows\n",
      "\n"
     ]
    },
    {
     "name": "stderr",
     "output_type": "stream",
     "text": [
      "                                                                                \r"
     ]
    }
   ],
   "source": [
    "df_silver.groupBy(\"secao\").count().orderBy(\"count\", ascending=False).show()"
   ]
  },
  {
   "cell_type": "code",
   "execution_count": 9,
   "id": "16fc90bf",
   "metadata": {},
   "outputs": [
    {
     "data": {
      "text/plain": [
       "240725744"
      ]
     },
     "execution_count": 9,
     "metadata": {},
     "output_type": "execute_result"
    }
   ],
   "source": [
    "df_silver.count()"
   ]
  },
  {
   "cell_type": "code",
   "execution_count": 10,
   "id": "31c0fbde",
   "metadata": {},
   "outputs": [
    {
     "name": "stderr",
     "output_type": "stream",
     "text": [
      "[Stage 7:============================================>         (293 + 36) / 353]\r"
     ]
    },
    {
     "name": "stdout",
     "output_type": "stream",
     "text": [
      "+-----------+------+\n",
      "|competencia| count|\n",
      "+-----------+------+\n",
      "|    2010-01|123742|\n",
      "|    2010-02|131238|\n",
      "|    2010-03|163620|\n",
      "|    2010-04|145002|\n",
      "|    2010-05|151173|\n",
      "|    2010-06|147699|\n",
      "|    2010-07|148082|\n",
      "|    2010-08|152758|\n",
      "|    2010-09|152085|\n",
      "|    2010-10|151479|\n",
      "|    2010-11|152026|\n",
      "|    2010-12|147305|\n",
      "|    2011-01|152744|\n",
      "|    2011-02|164507|\n",
      "|    2011-03|174204|\n",
      "|    2011-04|172312|\n",
      "|    2011-05|188495|\n",
      "|    2011-06|174201|\n",
      "|    2011-07|160446|\n",
      "|    2011-08|171137|\n",
      "+-----------+------+\n",
      "only showing top 20 rows\n",
      "\n"
     ]
    },
    {
     "name": "stderr",
     "output_type": "stream",
     "text": [
      "                                                                                \r"
     ]
    }
   ],
   "source": [
    "df_silver.groupBy(\"competencia\").count().orderBy(\"competencia\", ascending=True).show()"
   ]
  },
  {
   "cell_type": "code",
   "execution_count": 11,
   "id": "764da197",
   "metadata": {},
   "outputs": [],
   "source": [
    "# Adiciona coluna de ano\n",
    "df_silver = df_silver.withColumn(\"ano\", substring(\"competencia\", 1, 4))"
   ]
  },
  {
   "cell_type": "code",
   "execution_count": 36,
   "id": "530cfa38",
   "metadata": {},
   "outputs": [],
   "source": [
    "df_silver = df_silver.withColumn(\n",
    "    \"faixa_etaria\",\n",
    "    when(col(\"idade\") <= 17, \"até 17\")\n",
    "    .when(col(\"idade\").between(18, 24), \"18-24\")\n",
    "    .when(col(\"idade\").between(25, 29), \"25-29\")\n",
    "    .when(col(\"idade\").between(30, 39), \"30-39\")\n",
    "    .when(col(\"idade\").between(40, 49), \"40-49\")\n",
    "    .when(col(\"idade\").between(50, 64), \"50-64\")\n",
    "    .otherwise(\"65+\")\n",
    ")\n"
   ]
  },
  {
   "cell_type": "code",
   "execution_count": null,
   "id": "a7fc9a7b",
   "metadata": {},
   "outputs": [
    {
     "name": "stderr",
     "output_type": "stream",
     "text": [
      "25/05/13 15:25:41 WARN DataSourceV2Strategy: Can't translate true to source filter, unsupported expression\n",
      "25/05/13 15:25:41 WARN DataSourceV2Strategy: Can't translate true to source filter, unsupported expression\n",
      "25/05/13 15:25:41 WARN DataSourceV2Strategy: Can't translate true to source filter, unsupported expression\n",
      "25/05/13 15:25:42 WARN DataSourceV2Strategy: Can't translate true to source filter, unsupported expression\n",
      "                                                                                \r"
     ]
    },
    {
     "name": "stdout",
     "output_type": "stream",
     "text": [
      "+----+-------------+----------------+-----------+---------------+---------------+-----------+-----------------------+----------------+---------------+-----------------------+\n",
      "|ano |salario_medio|salario_medio_sm|idade_media|total_admissoes|total_demissoes|saldo_total|escolaridade_mais_comum|etnia_mais_comum|sexo_mais_comum|faixa_etaria_mais_comum|\n",
      "+----+-------------+----------------+-----------+---------------+---------------+-----------+-----------------------+----------------+---------------+-----------------------+\n",
      "|2010|1033.68      |2.03            |37.27      |179600         |157700         |21900      |Fundamental Completo   |Branca          |Homem          |30-39                  |\n",
      "|2011|1132.92      |2.08            |37.35      |201100         |183900         |17200      |Médio Completo         |Branca          |Homem          |30-39                  |\n",
      "|2012|1228.29      |1.97            |37.48      |204600         |191700         |12800      |Médio Completo         |Branca          |Homem          |30-39                  |\n",
      "|2013|1340.21      |1.98            |37.75      |217400         |203300         |14000      |Médio Completo         |Branca          |Homem          |30-39                  |\n",
      "|2014|1457.18      |2.01            |38.04      |217100         |215800         |1400       |Médio Completo         |Branca          |Homem          |30-39                  |\n",
      "|2015|1559.18      |1.98            |38.58      |178300         |192400         |-14100     |Médio Completo         |Branca          |Homem          |30-39                  |\n",
      "|2016|1692.33      |1.92            |39.41      |147100         |168100         |-21000     |Médio Completo         |Branca          |Homem          |30-39                  |\n",
      "|2017|1805.08      |1.93            |39.94      |138100         |135300         |2700       |Médio Completo         |Branca          |Homem          |30-39                  |\n",
      "|2018|1889.66      |1.98            |40.39      |136700         |120700         |15900      |Médio Completo         |Branca          |Homem          |30-39                  |\n",
      "|2019|1948.15      |1.95            |40.64      |164900         |147100         |17800      |Médio Completo         |Branca          |Homem          |30-39                  |\n",
      "|2020|2437.91      |2.33            |40.61      |391000         |366100         |24900      |Médio Completo         |Branca          |Homem          |30-39                  |\n",
      "|2021|2424.99      |2.2             |40.59      |498500         |440300         |58200      |Médio Completo         |Branca          |Homem          |30-39                  |\n",
      "|2022|2519.35      |2.08            |40.72      |540400         |480700         |59600      |Médio Completo         |Branca          |Homem          |30-39                  |\n",
      "|2023|3045.95      |2.31            |40.7       |573400         |542500         |30900      |Médio Completo         |Branca          |Homem          |30-39                  |\n",
      "|2024|3493.35      |2.47            |40.8       |622300         |600600         |21800      |Médio Completo         |Parda           |Homem          |40-49                  |\n",
      "|2025|2991.44      |1.97            |40.93      |160700         |152000         |8700       |Médio Completo         |Parda           |Homem          |40-49                  |\n",
      "+----+-------------+----------------+-----------+---------------+---------------+-----------+-----------------------+----------------+---------------+-----------------------+\n",
      "\n"
     ]
    }
   ],
   "source": [
    "# Filtra apenas motoristas\n",
    "df_motoristas = df_silver.filter(col(\"codigo_cbo\").cast(\"int\").isin(782510))\n",
    "\n",
    "# Mapeamento do salário mínimo por ano\n",
    "df_motoristas = df_motoristas.withColumn(\"salario_minimo\", \n",
    "    when(col(\"ano\") == \"2010\", 510.00)\n",
    "    .when(col(\"ano\") == \"2011\", 545.00)\n",
    "    .when(col(\"ano\") == \"2012\", 622.00)\n",
    "    .when(col(\"ano\") == \"2013\", 678.00)\n",
    "    .when(col(\"ano\") == \"2014\", 724.00)\n",
    "    .when(col(\"ano\") == \"2015\", 788.00)\n",
    "    .when(col(\"ano\") == \"2016\", 880.00)\n",
    "    .when(col(\"ano\") == \"2017\", 937.00)\n",
    "    .when(col(\"ano\") == \"2018\", 954.00)\n",
    "    .when(col(\"ano\") == \"2019\", 998.00)\n",
    "    .when(col(\"ano\") == \"2020\", 1045.00)\n",
    "    .when(col(\"ano\") == \"2021\", 1100.00)\n",
    "    .when(col(\"ano\") == \"2022\", 1212.00)\n",
    "    .when(col(\"ano\") == \"2023\", 1320.00)\n",
    "    .when(col(\"ano\") == \"2024\", 1412.00)\n",
    "    .when(col(\"ano\") == \"2025\", 1518.00)\n",
    ")\n",
    "\n",
    "# Agregações principais\n",
    "agregacoes = df_motoristas.groupBy(\"ano\").agg(\n",
    "    F.round(F.avg(\"salario\"), 2).alias(\"salario_medio\"),\n",
    "    F.round(F.avg(\"salario\") / F.first(\"salario_minimo\"), 2).alias(\"salario_medio_sm\"),\n",
    "    F.round(F.avg(\"idade\"), 2).alias(\"idade_media\"),\n",
    "    F.round(F.sum(\"admissao\"), -2).alias(\"total_admissoes\"),\n",
    "    F.round(F.sum(\"demissao\"), -2).alias(\"total_demissoes\"),\n",
    "    F.round(F.sum(\"admissao\") - F.sum(\"demissao\"), -2).alias(\"saldo_total\")\n",
    ")\n",
    "\n",
    "# Escolaridade mais comum por ano\n",
    "escolaridade_mais_comum = df_motoristas.groupBy(\"ano\", \"escolaridade\").count() \\\n",
    "    .withColumn(\"rn\", F.row_number().over(\n",
    "        Window.partitionBy(\"ano\").orderBy(F.desc(\"count\")))) \\\n",
    "    .filter(\"rn = 1\").select(\"ano\", col(\"escolaridade\").alias(\"escolaridade_mais_comum\"))\n",
    "\n",
    "# Etnia mais comum por ano\n",
    "etnia_mais_comum = df_motoristas.groupBy(\"ano\", \"etnia\").count() \\\n",
    "    .withColumn(\"rn\", F.row_number().over(\n",
    "        Window.partitionBy(\"ano\").orderBy(F.desc(\"count\")))) \\\n",
    "    .filter(\"rn = 1\").select(\"ano\", col(\"etnia\").alias(\"etnia_mais_comum\"))\n",
    "\n",
    "# Sexo mais comum por ano\n",
    "sexo_mais_comum = df_motoristas.groupBy(\"ano\", \"sexo\").count() \\\n",
    "    .withColumn(\"rn\", F.row_number().over(\n",
    "        Window.partitionBy(\"ano\").orderBy(F.desc(\"count\")))) \\\n",
    "    .filter(\"rn = 1\").select(\"ano\", col(\"sexo\").alias(\"sexo_mais_comum\"))\n",
    "\n",
    "\n",
    "# Unir tudo\n",
    "resultado_final = agregacoes \\\n",
    "    .join(escolaridade_mais_comum, on=\"ano\", how=\"left\") \\\n",
    "    .join(etnia_mais_comum, on=\"ano\", how=\"left\") \\\n",
    "    .join(sexo_mais_comum, on=\"ano\", how=\"left\") \\\n",
    "    .orderBy(\"ano\")\n",
    "\n",
    "resultado_final.show(truncate=False)"
   ]
  },
  {
   "cell_type": "code",
   "execution_count": 13,
   "id": "8eae14de",
   "metadata": {},
   "outputs": [
    {
     "name": "stderr",
     "output_type": "stream",
     "text": [
      "                                                                                \r"
     ]
    },
    {
     "data": {
      "text/plain": [
       "8869304"
      ]
     },
     "execution_count": 13,
     "metadata": {},
     "output_type": "execute_result"
    }
   ],
   "source": [
    "df_motoristas.count()"
   ]
  },
  {
   "cell_type": "code",
   "execution_count": 14,
   "id": "3b628e3e",
   "metadata": {},
   "outputs": [],
   "source": [
    "setor_h = df_silver.filter(col('secao') == 'H')"
   ]
  },
  {
   "cell_type": "code",
   "execution_count": 15,
   "id": "1e18256a",
   "metadata": {},
   "outputs": [
    {
     "name": "stderr",
     "output_type": "stream",
     "text": [
      "                                                                                \r"
     ]
    },
    {
     "data": {
      "text/plain": [
       "29807414"
      ]
     },
     "execution_count": 15,
     "metadata": {},
     "output_type": "execute_result"
    }
   ],
   "source": [
    "setor_h.count()"
   ]
  },
  {
   "cell_type": "code",
   "execution_count": 16,
   "id": "ca8b1178",
   "metadata": {},
   "outputs": [
    {
     "name": "stderr",
     "output_type": "stream",
     "text": [
      "[Stage 37:=========================================>           (279 + 36) / 353]\r"
     ]
    },
    {
     "name": "stdout",
     "output_type": "stream",
     "text": [
      "+----+---------------+---------------+-----------+\n",
      "|ano |total_admissoes|total_demissoes|saldo_total|\n",
      "+----+---------------+---------------+-----------+\n",
      "|2010|955600         |810600         |145100     |\n",
      "|2011|1071900        |934800         |137100     |\n",
      "|2012|1057200        |987900         |69300      |\n",
      "|2013|1110700        |1039700        |71000      |\n",
      "|2014|1099100        |1057800        |41300      |\n",
      "|2015|884700         |965800         |-81100     |\n",
      "|2016|721000         |821500         |-100500    |\n",
      "|2017|705600         |725500         |-19900     |\n",
      "|2018|740500         |715200         |25400      |\n",
      "|2019|805500         |783200         |22300      |\n",
      "|2020|823800         |895700         |-71800     |\n",
      "|2021|1086900        |975700         |111200     |\n",
      "|2022|1201400        |1077800        |123600     |\n",
      "|2023|1242600        |1131200        |111500     |\n",
      "|2024|1388600        |1275300        |113400     |\n",
      "|2025|377000         |337500         |39500      |\n",
      "+----+---------------+---------------+-----------+\n",
      "\n"
     ]
    },
    {
     "name": "stderr",
     "output_type": "stream",
     "text": [
      "                                                                                \r"
     ]
    }
   ],
   "source": [
    "from pyspark.sql import functions as F\n",
    "\n",
    "# Agrupar por competência e calcular total de admissões, demissões e saldo\n",
    "resultados_por_mes = setor_h.groupBy(\"ano\").agg(\n",
    "   F.round(F.sum(\"admissao\"), -2).alias(\"total_admissoes\"),\n",
    "   F.round(F.sum(\"demissao\"), -2).alias(\"total_demissoes\"),\n",
    "   F.round(F.sum(\"admissao\") - F.sum(\"demissao\"), -2).alias(\"saldo_total\")\n",
    ").orderBy(\"ano\")\n",
    "\n",
    "# Exibir resultado\n",
    "resultados_por_mes.show(truncate=False)"
   ]
  },
  {
   "cell_type": "code",
   "execution_count": 18,
   "id": "59e4d124",
   "metadata": {},
   "outputs": [
    {
     "name": "stderr",
     "output_type": "stream",
     "text": [
      "[Stage 43:==========================================>          (282 + 36) / 353]\r"
     ]
    },
    {
     "name": "stdout",
     "output_type": "stream",
     "text": [
      "+----+---------------+---------------+-----------+\n",
      "| ano|total_admissoes|total_demissoes|saldo_total|\n",
      "+----+---------------+---------------+-----------+\n",
      "|2025|         160700|         152000|       8700|\n",
      "|2024|         622300|         600600|      21800|\n",
      "|2023|         573400|         542500|      30900|\n",
      "|2022|         540400|         480700|      59600|\n",
      "|2021|         498500|         440300|      58200|\n",
      "|2020|         391000|         366100|      24900|\n",
      "|2013|         217400|         203300|      14000|\n",
      "|2017|         138100|         135300|       2700|\n",
      "|2014|         217100|         215800|       1400|\n",
      "|2018|         136700|         120700|      15900|\n",
      "|2015|         178300|         192400|     -14100|\n",
      "|2010|         179600|         157700|      21900|\n",
      "|2016|         147100|         168100|     -21000|\n",
      "|2019|         164900|         147100|      17800|\n",
      "|2011|         201100|         183900|      17200|\n",
      "|2012|         204600|         191700|      12800|\n",
      "+----+---------------+---------------+-----------+\n",
      "\n"
     ]
    },
    {
     "name": "stderr",
     "output_type": "stream",
     "text": [
      "                                                                                \r"
     ]
    }
   ],
   "source": [
    "df_motoristas.groupBy(\"ano\").agg(        \n",
    "    F.round(F.sum(\"admissao\"), -2).alias(\"total_admissoes\"),\n",
    "    F.round(F.sum(\"demissao\"), -2).alias(\"total_demissoes\"),\n",
    "    F.round(F.sum(\"saldo_movimentacao\"), -2).alias(\"saldo_total\")\n",
    ").show()"
   ]
  },
  {
   "cell_type": "code",
   "execution_count": null,
   "id": "a890ebbc",
   "metadata": {},
   "outputs": [
    {
     "name": "stderr",
     "output_type": "stream",
     "text": [
      "25/05/12 16:00:27 WARN DataSourceV2Strategy: Can't translate true to source filter, unsupported expression\n",
      "25/05/12 16:00:27 WARN DataSourceV2Strategy: Can't translate true to source filter, unsupported expression\n",
      "25/05/12 16:00:27 WARN DataSourceV2Strategy: Can't translate true to source filter, unsupported expression\n",
      "                                                                                \r"
     ]
    },
    {
     "name": "stdout",
     "output_type": "stream",
     "text": [
      "+----+-------------+----------------+-----------+---------------+---------------+-----------+-----------------------+----------------+---------------+\n",
      "|ano |salario_medio|salario_medio_sm|idade_media|total_admissoes|total_demissoes|saldo_total|escolaridade_mais_comum|etnia_mais_comum|sexo_mais_comum|\n",
      "+----+-------------+----------------+-----------+---------------+---------------+-----------+-----------------------+----------------+---------------+\n",
      "|2010|1033.68      |2.03            |37.27      |179600         |157700         |21900      |Fundamental Completo   |Branca          |Homem          |\n",
      "|2011|1132.92      |2.08            |37.35      |201100         |183900         |17200      |Médio Completo         |Branca          |Homem          |\n",
      "|2012|1228.29      |1.97            |37.48      |204600         |191700         |12800      |Médio Completo         |Branca          |Homem          |\n",
      "|2013|1340.21      |1.98            |37.75      |217400         |203300         |14000      |Médio Completo         |Branca          |Homem          |\n",
      "|2014|1457.18      |2.01            |38.04      |217100         |215800         |1400       |Médio Completo         |Branca          |Homem          |\n",
      "|2015|1559.18      |1.98            |38.58      |178300         |192400         |-14100     |Médio Completo         |Branca          |Homem          |\n",
      "|2016|1692.33      |1.92            |39.41      |147100         |168100         |-21000     |Médio Completo         |Branca          |Homem          |\n",
      "|2017|1805.08      |1.93            |39.94      |138100         |135300         |2700       |Médio Completo         |Branca          |Homem          |\n",
      "|2018|1889.66      |1.98            |40.39      |136700         |120700         |15900      |Médio Completo         |Branca          |Homem          |\n",
      "|2019|1948.15      |1.95            |40.64      |164900         |147100         |17800      |Médio Completo         |Branca          |Homem          |\n",
      "|2020|2167.24      |2.07            |40.87      |204000         |188400         |15600      |Médio Completo         |Branca          |Homem          |\n",
      "|2021|2236.38      |2.03            |40.83      |257300         |227600         |29700      |Médio Completo         |Branca          |Homem          |\n",
      "|2022|2298.76      |1.9             |40.91      |272600         |244100         |28500      |Médio Completo         |Branca          |Homem          |\n",
      "|2023|2556.25      |1.94            |40.84      |288200         |271000         |17200      |Médio Completo         |Branca          |Homem          |\n",
      "|2024|2580.77      |1.83            |40.95      |313000         |301400         |11600      |Médio Completo         |Branca          |Homem          |\n",
      "|2025|2766.43      |1.82            |41.02      |81100          |75600          |5600       |Médio Completo         |Branca          |Homem          |\n",
      "+----+-------------+----------------+-----------+---------------+---------------+-----------+-----------------------+----------------+---------------+\n",
      "\n"
     ]
    }
   ],
   "source": [
    "from pyspark.sql import functions as F, Window\n",
    "from pyspark.sql.functions import col, substring, when\n",
    "\n",
    "# Adiciona coluna de ano\n",
    "df_ano = df_silver.withColumn(\"ano\", substring(\"competencia\", 1, 4))\n",
    "\n",
    "df_ano = df_silver.filter(col('secao') == 'H')\n",
    "\n",
    "# Filtra apenas motoristas com o CBO 782510 (caminhoneiro)\n",
    "df_motoristas = df_ano.filter(col(\"codigo_cbo\").cast(\"int\") == 782510)\n",
    "\n",
    "# Mapeamento do salário mínimo por ano\n",
    "df_motoristas = df_motoristas.withColumn(\"salario_minimo\", \n",
    "    when(col(\"ano\") == \"2010\", 510.00)\n",
    "    .when(col(\"ano\") == \"2011\", 545.00)\n",
    "    .when(col(\"ano\") == \"2012\", 622.00)\n",
    "    .when(col(\"ano\") == \"2013\", 678.00)\n",
    "    .when(col(\"ano\") == \"2014\", 724.00)\n",
    "    .when(col(\"ano\") == \"2015\", 788.00)\n",
    "    .when(col(\"ano\") == \"2016\", 880.00)\n",
    "    .when(col(\"ano\") == \"2017\", 937.00)\n",
    "    .when(col(\"ano\") == \"2018\", 954.00)\n",
    "    .when(col(\"ano\") == \"2019\", 998.00)\n",
    "    .when(col(\"ano\") == \"2020\", 1045.00)\n",
    "    .when(col(\"ano\") == \"2021\", 1100.00)\n",
    "    .when(col(\"ano\") == \"2022\", 1212.00)\n",
    "    .when(col(\"ano\") == \"2023\", 1320.00)\n",
    "    .when(col(\"ano\") == \"2024\", 1412.00)\n",
    "    .when(col(\"ano\") == \"2025\", 1518.00)\n",
    ")\n",
    "\n",
    "# Calcular proporção salário/salário mínimo para agregação segura\n",
    "df_motoristas = df_motoristas.withColumn(\"salario_sm\", col(\"salario\") / col(\"salario_minimo\"))\n",
    "\n",
    "# Agregações principais\n",
    "agregacoes = df_motoristas.groupBy(\"ano\").agg(\n",
    "    F.round(F.avg(\"salario\"), 2).alias(\"salario_medio\"),\n",
    "    F.round(F.avg(\"salario_sm\"), 2).alias(\"salario_medio_sm\"),\n",
    "    F.round(F.avg(\"idade\"), 2).alias(\"idade_media\"),\n",
    "    F.round(F.sum(\"admissao\"), -2).alias(\"total_admissoes\"),\n",
    "    F.round(F.sum(\"demissao\"), -2).alias(\"total_demissoes\"),\n",
    "    F.round(F.sum(\"admissao\") - F.sum(\"demissao\"), -2).alias(\"saldo_total\")\n",
    ")\n",
    "\n",
    "# Escolaridade mais comum por ano\n",
    "escolaridade_mais_comum = df_motoristas.groupBy(\"ano\", \"escolaridade\").count() \\\n",
    "    .withColumn(\"rn\", F.row_number().over(\n",
    "        Window.partitionBy(\"ano\").orderBy(F.desc(\"count\")))) \\\n",
    "    .filter(\"rn = 1\").select(\"ano\", col(\"escolaridade\").alias(\"escolaridade_mais_comum\"))\n",
    "\n",
    "# Etnia mais comum por ano\n",
    "etnia_mais_comum = df_motoristas.groupBy(\"ano\", \"etnia\").count() \\\n",
    "    .withColumn(\"rn\", F.row_number().over(\n",
    "        Window.partitionBy(\"ano\").orderBy(F.desc(\"count\")))) \\\n",
    "    .filter(\"rn = 1\").select(\"ano\", col(\"etnia\").alias(\"etnia_mais_comum\"))\n",
    "\n",
    "# Sexo mais comum por ano\n",
    "sexo_mais_comum = df_motoristas.groupBy(\"ano\", \"sexo\").count() \\\n",
    "    .withColumn(\"rn\", F.row_number().over(\n",
    "        Window.partitionBy(\"ano\").orderBy(F.desc(\"count\")))) \\\n",
    "    .filter(\"rn = 1\").select(\"ano\", col(\"sexo\").alias(\"sexo_mais_comum\"))\n",
    "\n",
    "# Resultado final unificado\n",
    "resultado_final = agregacoes \\\n",
    "    .join(escolaridade_mais_comum, on=\"ano\", how=\"left\") \\\n",
    "    .join(etnia_mais_comum, on=\"ano\", how=\"left\") \\\n",
    "    .join(sexo_mais_comum, on=\"ano\", how=\"left\") \\\n",
    "    .select(\n",
    "        \"ano\", \"salario_medio\", \"salario_medio_sm\", \"idade_media\",\n",
    "        \"total_admissoes\", \"total_demissoes\", \"saldo_total\",\n",
    "        \"escolaridade_mais_comum\", \"etnia_mais_comum\", \"sexo_mais_comum\"\n",
    "    ) \\\n",
    "    .orderBy(\"ano\")\n",
    "\n",
    "resultado_final.show(truncate=False)"
   ]
  },
  {
   "cell_type": "code",
   "execution_count": null,
   "id": "8039301d",
   "metadata": {},
   "outputs": [
    {
     "data": {
      "text/plain": [
       "DataFrame[]"
      ]
     },
     "execution_count": 26,
     "metadata": {},
     "output_type": "execute_result"
    }
   ],
   "source": [
    "#spark.sql('DROP TABLE IF EXISTS gold.default.caminhoneiros_saldo')"
   ]
  },
  {
   "cell_type": "code",
   "execution_count": 27,
   "id": "dd8f96fd",
   "metadata": {},
   "outputs": [
    {
     "name": "stderr",
     "output_type": "stream",
     "text": [
      "25/05/12 16:23:48 WARN DataSourceV2Strategy: Can't translate true to source filter, unsupported expression\n",
      "25/05/12 16:23:48 WARN DataSourceV2Strategy: Can't translate true to source filter, unsupported expression\n",
      "25/05/12 16:23:48 WARN DataSourceV2Strategy: Can't translate true to source filter, unsupported expression\n",
      "                                                                                \r"
     ]
    }
   ],
   "source": [
    "resultado_final.writeTo(\"gold.default.caminhoneiros_saldo\").partitionedBy(\"ano\").create()"
   ]
  },
  {
   "cell_type": "code",
   "execution_count": 24,
   "id": "938b47b8",
   "metadata": {},
   "outputs": [
    {
     "name": "stderr",
     "output_type": "stream",
     "text": [
      "25/05/12 16:19:38 WARN DataSourceV2Strategy: Can't translate true to source filter, unsupported expression\n",
      "25/05/12 16:19:38 WARN DataSourceV2Strategy: Can't translate true to source filter, unsupported expression\n",
      "25/05/12 16:19:38 WARN DataSourceV2Strategy: Can't translate true to source filter, unsupported expression\n",
      "                                                                                \r"
     ]
    },
    {
     "name": "stdout",
     "output_type": "stream",
     "text": [
      "+----+-------------+----------------+-----------+---------------+---------------+-----------+-----------------------+----------------+---------------+\n",
      "|ano |salario_medio|salario_medio_sm|idade_media|total_admissoes|total_demissoes|saldo_total|escolaridade_mais_comum|etnia_mais_comum|sexo_mais_comum|\n",
      "+----+-------------+----------------+-----------+---------------+---------------+-----------+-----------------------+----------------+---------------+\n",
      "|2010|1056.26      |2.07            |37.5       |287100         |262000         |25100      |Fundamental Completo   |Branca          |Homem          |\n",
      "|2011|1156.26      |2.12            |37.55      |322700         |298600         |24100      |Médio Completo         |Branca          |Homem          |\n",
      "|2012|1251.46      |2.01            |37.69      |325500         |311700         |13800      |Médio Completo         |Branca          |Homem          |\n",
      "|2013|1368.87      |2.02            |38.0       |347200         |332300         |14900      |Médio Completo         |Branca          |Homem          |\n",
      "|2014|1487.06      |2.05            |38.27      |351300         |347200         |4100       |Médio Completo         |Branca          |Homem          |\n",
      "|2015|1595.83      |2.03            |38.87      |290400         |315200         |-24800     |Médio Completo         |Branca          |Homem          |\n",
      "|2016|1722.15      |1.96            |39.67      |234500         |273400         |-38900     |Médio Completo         |Branca          |Homem          |\n",
      "|2017|1827.77      |1.95            |40.22      |211800         |219300         |-7500      |Médio Completo         |Branca          |Homem          |\n",
      "|2018|1908.71      |2.0             |40.71      |203000         |192000         |11100      |Médio Completo         |Branca          |Homem          |\n",
      "|2019|1968.75      |1.97            |40.96      |240900         |226600         |14200      |Médio Completo         |Branca          |Homem          |\n",
      "|2020|2425.91      |2.32            |40.81      |527000         |545700         |-18700     |Médio Completo         |Branca          |Homem          |\n",
      "|2021|2472.3       |2.25            |40.68      |693000         |624200         |68800      |Médio Completo         |Branca          |Homem          |\n",
      "|2022|2471.17      |2.04            |40.8       |762500         |679500         |83000      |Médio Completo         |Branca          |Homem          |\n",
      "|2023|2905.46      |2.2             |40.77      |802300         |753400         |49000      |Médio Completo         |Branca          |Homem          |\n",
      "|2024|3241.64      |2.3             |40.87      |865000         |833300         |31600      |Médio Completo         |Parda           |Homem          |\n",
      "|2025|2886.14      |1.9             |41.03      |227900         |212900         |15000      |Médio Completo         |Parda           |Homem          |\n",
      "+----+-------------+----------------+-----------+---------------+---------------+-----------+-----------------------+----------------+---------------+\n",
      "\n"
     ]
    }
   ],
   "source": [
    "# Lista de CBOs de motoristas\n",
    "cbos_motoristas = [\n",
    "    782310, 782320, 782405, 782410, 782415,\n",
    "    82505, 782510, 782515, 7823, 7824, 7825, 7821, 7822\n",
    "]\n",
    "\n",
    "# Adiciona coluna de ano\n",
    "df_ano = df_silver.withColumn(\"ano\", substring(\"competencia\", 1, 4))\n",
    "\n",
    "# Filtra apenas motoristas\n",
    "df_motoristas = df_ano.filter(col(\"codigo_cbo\").cast(\"int\").isin(cbos_motoristas))\n",
    "\n",
    "# Mapeamento do salário mínimo por ano\n",
    "df_motoristas = df_motoristas.withColumn(\"salario_minimo\", \n",
    "    when(col(\"ano\") == \"2010\", 510.00)\n",
    "    .when(col(\"ano\") == \"2011\", 545.00)\n",
    "    .when(col(\"ano\") == \"2012\", 622.00)\n",
    "    .when(col(\"ano\") == \"2013\", 678.00)\n",
    "    .when(col(\"ano\") == \"2014\", 724.00)\n",
    "    .when(col(\"ano\") == \"2015\", 788.00)\n",
    "    .when(col(\"ano\") == \"2016\", 880.00)\n",
    "    .when(col(\"ano\") == \"2017\", 937.00)\n",
    "    .when(col(\"ano\") == \"2018\", 954.00)\n",
    "    .when(col(\"ano\") == \"2019\", 998.00)\n",
    "    .when(col(\"ano\") == \"2020\", 1045.00)\n",
    "    .when(col(\"ano\") == \"2021\", 1100.00)\n",
    "    .when(col(\"ano\") == \"2022\", 1212.00)\n",
    "    .when(col(\"ano\") == \"2023\", 1320.00)\n",
    "    .when(col(\"ano\") == \"2024\", 1412.00)\n",
    "    .when(col(\"ano\") == \"2025\", 1518.00)\n",
    ")\n",
    "\n",
    "# Agregações principais\n",
    "agregacoes = df_motoristas.groupBy(\"ano\").agg(\n",
    "    F.round(F.avg(\"salario\"), 2).alias(\"salario_medio\"),\n",
    "    F.round(F.avg(\"salario\") / F.first(\"salario_minimo\"), 2).alias(\"salario_medio_sm\"),\n",
    "    F.round(F.avg(\"idade\"), 2).alias(\"idade_media\"),\n",
    "    F.round(F.sum(\"admissao\"), -2).alias(\"total_admissoes\"),\n",
    "    F.round(F.sum(\"demissao\"), -2).alias(\"total_demissoes\"),\n",
    "    F.round(F.sum(\"admissao\") - F.sum(\"demissao\"), -2).alias(\"saldo_total\")\n",
    ")\n",
    "\n",
    "# Escolaridade mais comum por ano\n",
    "escolaridade_mais_comum = df_motoristas.groupBy(\"ano\", \"escolaridade\").count() \\\n",
    "    .withColumn(\"rn\", F.row_number().over(\n",
    "        Window.partitionBy(\"ano\").orderBy(F.desc(\"count\")))) \\\n",
    "    .filter(\"rn = 1\").select(\"ano\", col(\"escolaridade\").alias(\"escolaridade_mais_comum\"))\n",
    "\n",
    "# Etnia mais comum por ano\n",
    "etnia_mais_comum = df_motoristas.groupBy(\"ano\", \"etnia\").count() \\\n",
    "    .withColumn(\"rn\", F.row_number().over(\n",
    "        Window.partitionBy(\"ano\").orderBy(F.desc(\"count\")))) \\\n",
    "    .filter(\"rn = 1\").select(\"ano\", col(\"etnia\").alias(\"etnia_mais_comum\"))\n",
    "\n",
    "# Sexo mais comum por ano\n",
    "sexo_mais_comum = df_motoristas.groupBy(\"ano\", \"sexo\").count() \\\n",
    "    .withColumn(\"rn\", F.row_number().over(\n",
    "        Window.partitionBy(\"ano\").orderBy(F.desc(\"count\")))) \\\n",
    "    .filter(\"rn = 1\").select(\"ano\", col(\"sexo\").alias(\"sexo_mais_comum\"))\n",
    "\n",
    "# Unir tudo\n",
    "resultado_final_motoristas = agregacoes \\\n",
    "    .join(escolaridade_mais_comum, on=\"ano\", how=\"left\") \\\n",
    "    .join(etnia_mais_comum, on=\"ano\", how=\"left\") \\\n",
    "    .join(sexo_mais_comum, on=\"ano\", how=\"left\") \\\n",
    "    .orderBy(\"ano\")\n",
    "\n",
    "resultado_final_motoristas.show(truncate=False)"
   ]
  },
  {
   "cell_type": "code",
   "execution_count": 28,
   "id": "2a668898",
   "metadata": {},
   "outputs": [
    {
     "name": "stderr",
     "output_type": "stream",
     "text": [
      "25/05/12 16:24:39 WARN DataSourceV2Strategy: Can't translate true to source filter, unsupported expression\n",
      "25/05/12 16:24:39 WARN DataSourceV2Strategy: Can't translate true to source filter, unsupported expression\n",
      "25/05/12 16:24:39 WARN DataSourceV2Strategy: Can't translate true to source filter, unsupported expression\n",
      "                                                                                \r"
     ]
    }
   ],
   "source": [
    "resultado_final_motoristas.writeTo(\"gold.default.motoristas_saldo\").partitionedBy(\"ano\").create()"
   ]
  },
  {
   "cell_type": "code",
   "execution_count": 29,
   "id": "2b78a19f",
   "metadata": {},
   "outputs": [
    {
     "name": "stdout",
     "output_type": "stream",
     "text": [
      "+-----------+------------------+-----+----------+--------+----------+---------------------------------------+-----+------+------+-------+--------------+--------+--------+--------+--------+----+\n",
      "|competencia|saldo_movimentacao|secao|sub_classe|segmento|codigo_cbo|cbo                                    |idade|etnia |sexo  |salario|escolaridade  |uf_sigla|regiao  |admissao|demissao|ano |\n",
      "+-----------+------------------+-----+----------+--------+----------+---------------------------------------+-----+------+------+-------+--------------+--------+--------+--------+--------+----+\n",
      "|2025-02    |-1                |M    |7112000   |OUTROS  |715315    |Armador de Estrutura de Concreto Armado|33   |Branca|Homem |2752.2 |Médio Completo|PR      |SUL     |0       |1       |2025|\n",
      "|2025-02    |1                 |G    |4781400   |OUTROS  |521110    |Vendedor de Comercio Varejista         |22   |Parda |Mulher|1518.0 |Médio Completo|BA      |NORDESTE|1       |0       |2025|\n",
      "|2025-02    |1                 |G    |4781400   |OUTROS  |763015    |Costureira de Reparacao de Roupas      |55   |Branca|Mulher|2500.0 |Médio Completo|PE      |NORDESTE|1       |0       |2025|\n",
      "|2025-02    |1                 |I    |5620102   |OUTROS  |513405    |Garcom                                 |46   |Parda |Homem |0.0    |Médio Completo|RJ      |SUDESTE |1       |0       |2025|\n",
      "|2025-02    |1                 |M    |7119701   |OUTROS  |312320    |Topografo                              |29   |Parda |Homem |1800.0 |Médio Completo|SP      |SUDESTE |1       |0       |2025|\n",
      "+-----------+------------------+-----+----------+--------+----------+---------------------------------------+-----+------+------+-------+--------------+--------+--------+--------+--------+----+\n",
      "only showing top 5 rows\n",
      "\n"
     ]
    }
   ],
   "source": [
    "df_silver.show(5, truncate=False)"
   ]
  },
  {
   "cell_type": "code",
   "execution_count": 30,
   "id": "fa6135db",
   "metadata": {},
   "outputs": [
    {
     "name": "stderr",
     "output_type": "stream",
     "text": [
      "                                                                                \r"
     ]
    },
    {
     "data": {
      "text/plain": [
       "6225089"
      ]
     },
     "execution_count": 30,
     "metadata": {},
     "output_type": "execute_result"
    }
   ],
   "source": [
    "df_h = df_silver.filter(col('secao') == 'H')\n",
    "\n",
    "# Filtra apenas caminhoneiros com o CBO 782510 (caminhoneiro)\n",
    "df_caminhoneiros = df_h.filter(col(\"codigo_cbo\").cast(\"int\") == 782510)\n",
    "\n",
    "df_caminhoneiros.count()"
   ]
  },
  {
   "cell_type": "code",
   "execution_count": 33,
   "id": "5081269a",
   "metadata": {},
   "outputs": [
    {
     "name": "stderr",
     "output_type": "stream",
     "text": [
      "                                                                                \r"
     ]
    }
   ],
   "source": [
    "df_caminhoneiros.writeTo(\"gold.default.caminhoneiros_setor_h\").partitionedBy(\"competencia\").createOrReplace()"
   ]
  },
  {
   "cell_type": "code",
   "execution_count": 35,
   "id": "09529a03",
   "metadata": {},
   "outputs": [
    {
     "name": "stderr",
     "output_type": "stream",
     "text": [
      "                                                                                \r"
     ]
    },
    {
     "data": {
      "text/plain": [
       "29807414"
      ]
     },
     "execution_count": 35,
     "metadata": {},
     "output_type": "execute_result"
    }
   ],
   "source": [
    "setor_h.count()"
   ]
  },
  {
   "cell_type": "code",
   "execution_count": 40,
   "id": "996e7eee",
   "metadata": {},
   "outputs": [
    {
     "name": "stderr",
     "output_type": "stream",
     "text": [
      "25/05/13 15:36:52 WARN DataSourceV2Strategy: Can't translate true to source filter, unsupported expression\n",
      "25/05/13 15:36:52 WARN DataSourceV2Strategy: Can't translate true to source filter, unsupported expression\n",
      "25/05/13 15:36:52 WARN DataSourceV2Strategy: Can't translate true to source filter, unsupported expression\n",
      "                                                                                \r"
     ]
    },
    {
     "data": {
      "text/plain": [
       "16"
      ]
     },
     "execution_count": 40,
     "metadata": {},
     "output_type": "execute_result"
    }
   ],
   "source": [
    "resultado_final_motoristas.count()"
   ]
  },
  {
   "cell_type": "code",
   "execution_count": 42,
   "id": "7ae01e0e",
   "metadata": {},
   "outputs": [
    {
     "name": "stderr",
     "output_type": "stream",
     "text": [
      "                                                                                \r"
     ]
    },
    {
     "data": {
      "text/plain": [
       "13119533"
      ]
     },
     "execution_count": 42,
     "metadata": {},
     "output_type": "execute_result"
    }
   ],
   "source": [
    "# Lista de CBOs de motoristas\n",
    "cbos_motoristas = [\n",
    "    782310, 782320, 782405, 782410, 782415,\n",
    "    82505, 782510, 782515, 7823, 7824, 7825, 7821, 7822\n",
    "]\n",
    "\n",
    "# Adiciona coluna de ano\n",
    "df_ano = df_silver.withColumn(\"ano\", substring(\"competencia\", 1, 4))\n",
    "\n",
    "# Filtra apenas motoristas\n",
    "df_motoristas = df_ano.filter(col(\"codigo_cbo\").cast(\"int\").isin(cbos_motoristas))\n",
    "\n",
    "df_motoristas.count()"
   ]
  }
 ],
 "metadata": {
  "kernelspec": {
   "display_name": ".venv",
   "language": "python",
   "name": "python3"
  },
  "language_info": {
   "codemirror_mode": {
    "name": "ipython",
    "version": 3
   },
   "file_extension": ".py",
   "mimetype": "text/x-python",
   "name": "python",
   "nbconvert_exporter": "python",
   "pygments_lexer": "ipython3",
   "version": "3.10.12"
  }
 },
 "nbformat": 4,
 "nbformat_minor": 5
}
