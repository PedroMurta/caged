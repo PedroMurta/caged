{
 "cells": [
  {
   "cell_type": "code",
   "execution_count": 1,
   "id": "0feb5d14",
   "metadata": {},
   "outputs": [],
   "source": [
    "from tqdm import tqdm\n",
    "import pandas as pd\n",
    "from pyspark.sql import SparkSession\n",
    "from pyspark.sql.functions import col, round, date_format, to_date, create_map, lit, when, lower, regexp_replace, substring, concat_ws\n",
    "from itertools import chain\n",
    "import os\n",
    "from dotenv import load_dotenv\n",
    "load_dotenv()\n",
    "\n",
    "from datetime import datetime\n",
    "def log(msg):\n",
    "    tqdm.write(f\"[{datetime.now():%Y-%m-%d %H:%M:%S}] {msg}\")"
   ]
  },
  {
   "cell_type": "code",
   "execution_count": 2,
   "id": "3a32a8e5",
   "metadata": {},
   "outputs": [],
   "source": [
    "# 📌 Bibliotecas Padrão do Python\n",
    "import logging\n",
    "import warnings\n",
    "import itertools\n",
    "from datetime import datetime\n",
    "from typing import Literal\n",
    "\n",
    "# 📌 Manipulação de Dados\n",
    "import pandas as pd\n",
    "import numpy as np\n",
    "\n",
    "# 📌 Visualização\n",
    "import matplotlib.pyplot as plt\n",
    "import seaborn as sns\n",
    "import plotly.express as px\n",
    "import plotly.graph_objects as go\n",
    "\n",
    "from datetime import datetime\n",
    "\n",
    "\n",
    "\n",
    "# 📌 Barras de Progresso\n",
    "from tqdm import tqdm\n",
    "\n",
    "# 📌 Configurações Globais para Melhor Exibição dos Dados\n",
    "warnings.simplefilter(action=\"ignore\", category=UserWarning)  # Ignorar avisos gerais do usuário\n",
    "warnings.simplefilter(action=\"ignore\", category=FutureWarning)  # Ignorar avisos de futuras mudanças\n",
    "\n",
    "# Exibição de ponto flutuante sem notação científica\n",
    "pd.options.display.float_format = \"{:.2f}\".format\n",
    "# Configuração do número máximo de colunas e linhas exibidas\n",
    "pd.set_option(\"display.max_columns\", 500)\n",
    "pd.set_option(\"display.max_rows\", 65)\n",
    "\n",
    "# Configuração do backend de gráficos\n",
    "pd.options.plotting.backend = \"plotly\"\n",
    "pd.options.display.colheader_justify = \"center\""
   ]
  },
  {
   "cell_type": "code",
   "execution_count": 3,
   "id": "727d54a5",
   "metadata": {},
   "outputs": [
    {
     "name": "stderr",
     "output_type": "stream",
     "text": [
      "your 131072x1 screen size is bogus. expect trouble\n",
      "25/05/12 15:36:41 WARN Utils: Your hostname, GEGOVE-DT-09 resolves to a loopback address: 127.0.1.1; using 10.255.255.254 instead (on interface lo)\n",
      "25/05/12 15:36:41 WARN Utils: Set SPARK_LOCAL_IP if you need to bind to another address\n",
      "25/05/12 15:36:41 WARN NativeCodeLoader: Unable to load native-hadoop library for your platform... using builtin-java classes where applicable\n",
      "Setting default log level to \"WARN\".\n",
      "To adjust logging level use sc.setLogLevel(newLevel). For SparkR, use setLogLevel(newLevel).\n",
      "25/05/12 15:36:42 WARN Utils: Service 'SparkUI' could not bind on port 4040. Attempting port 4041.\n",
      "25/05/12 15:36:42 WARN Utils: Service 'SparkUI' could not bind on port 4041. Attempting port 4042.\n"
     ]
    }
   ],
   "source": [
    "from pyspark.sql import SparkSession\n",
    "\n",
    "raw_warehouse_path = \"/home/pedromurta/projects/observatorio/caged/data/observatorio_caged/raw/\"\n",
    "bronze_warehouse_path = \"/home/pedromurta/projects/observatorio/caged/data/observatorio_caged/bronze\"\n",
    "silver_warehouse_path = \"/home/pedromurta/projects/observatorio/caged/data/observatorio_caged/silver\"\n",
    "\n",
    "spark = SparkSession.builder \\\n",
    "    .appName(\"Salvar CAGED Iceberg\") \\\n",
    "    .config(\"spark.sql.catalog.raw\", \"org.apache.iceberg.spark.SparkCatalog\") \\\n",
    "    .config(\"spark.sql.catalog.raw.type\", \"hadoop\") \\\n",
    "    .config(\"spark.sql.catalog.raw.warehouse\", raw_warehouse_path) \\\n",
    "    .config(\"spark.sql.catalog.bronze\", \"org.apache.iceberg.spark.SparkCatalog\") \\\n",
    "    .config(\"spark.sql.catalog.bronze.type\", \"hadoop\") \\\n",
    "    .config(\"spark.sql.catalog.bronze.warehouse\", bronze_warehouse_path) \\\n",
    "    .config(\"spark.sql.catalog.silver\", \"org.apache.iceberg.spark.SparkCatalog\") \\\n",
    "    .config(\"spark.sql.catalog.silver.type\", \"hadoop\") \\\n",
    "    .config(\"spark.sql.catalog.silver.warehouse\", silver_warehouse_path) \\\n",
    "    .config(\"spark.sql.shuffle.partitions\", \"200\") \\\n",
    "    .config(\"spark.memory.fraction\", \"0.6\") \\\n",
    "    .config(\"spark.memory.storageFraction\", \"0.3\") \\\n",
    "    .config(\"spark.driver.memory\", \"8g\") \\\n",
    "    .config(\"spark.executor.memory\", \"8g\") \\\n",
    "    .config(\"spark.driver.memoryOverhead\", \"2g\") \\\n",
    "    .config(\"spark.executor.memoryOverhead\", \"2g\") \\\n",
    "    .getOrCreate()\n"
   ]
  },
  {
   "cell_type": "code",
   "execution_count": 4,
   "id": "537ef31d",
   "metadata": {},
   "outputs": [],
   "source": [
    "# Lê mapeamentos do Excel\n",
    "mapeamentos = pd.read_excel(\"/home/pedromurta/projects/observatorio/caged/data/observatorio_caged/support/mapeamentos/mapeamentos_caged.xlsx\", sheet_name=None)"
   ]
  },
  {
   "cell_type": "code",
   "execution_count": 5,
   "id": "aaa95570",
   "metadata": {},
   "outputs": [
    {
     "name": "stderr",
     "output_type": "stream",
     "text": [
      "                                                                                \r"
     ]
    }
   ],
   "source": [
    "df_old = spark.read \\\n",
    "    .option(\"basePath\", \"/home/pedromurta/projects/observatorio/caged/data/caged_old\") \\\n",
    "    .parquet(\"/home/pedromurta/projects/observatorio/caged/data/caged_old/*\")"
   ]
  },
  {
   "cell_type": "code",
   "execution_count": 6,
   "id": "9299660e",
   "metadata": {},
   "outputs": [],
   "source": [
    "catalog_bronze = \"bronze\"\n",
    "schema_name_bronze = \"default\"\n",
    "table_name_bronze = \"caged\"\n",
    "\n",
    "df_bronze = spark.read.table(f\"{catalog_bronze}.{schema_name_bronze}.{table_name_bronze}\")"
   ]
  },
  {
   "cell_type": "code",
   "execution_count": 7,
   "id": "314e0760",
   "metadata": {},
   "outputs": [
    {
     "data": {
      "text/plain": [
       "222731869"
      ]
     },
     "execution_count": 7,
     "metadata": {},
     "output_type": "execute_result"
    }
   ],
   "source": [
    "df_bronze.count()"
   ]
  },
  {
   "cell_type": "code",
   "execution_count": 8,
   "id": "05f49e27",
   "metadata": {},
   "outputs": [
    {
     "name": "stdout",
     "output_type": "stream",
     "text": [
      "root\n",
      " |-- sigla_uf: string (nullable = true)\n",
      " |-- saldo_movimentacao: integer (nullable = true)\n",
      " |-- codigo_cbo: string (nullable = true)\n",
      " |-- cbo: string (nullable = true)\n",
      " |-- escolaridade: string (nullable = true)\n",
      " |-- idade: byte (nullable = true)\n",
      " |-- sexo: string (nullable = true)\n",
      " |-- admissao: integer (nullable = true)\n",
      " |-- demissao: integer (nullable = true)\n",
      " |-- etnia: string (nullable = true)\n",
      " |-- sub_classe: string (nullable = true)\n",
      " |-- segmento: string (nullable = true)\n",
      " |-- salario: float (nullable = true)\n",
      " |-- regiao: string (nullable = true)\n",
      " |-- cnae_divisao: string (nullable = true)\n",
      " |-- secao_cnae: string (nullable = true)\n",
      " |-- competencia: string (nullable = true)\n",
      "\n"
     ]
    }
   ],
   "source": [
    "df_old.printSchema()"
   ]
  },
  {
   "cell_type": "code",
   "execution_count": 9,
   "id": "68111341",
   "metadata": {},
   "outputs": [
    {
     "data": {
      "text/plain": [
       "17993875"
      ]
     },
     "execution_count": 9,
     "metadata": {},
     "output_type": "execute_result"
    }
   ],
   "source": [
    "df_old.count()"
   ]
  },
  {
   "cell_type": "code",
   "execution_count": 10,
   "id": "13b1c40e",
   "metadata": {},
   "outputs": [
    {
     "name": "stdout",
     "output_type": "stream",
     "text": [
      "+--------+------------------+----------+--------------------------------+-----------------+-----+------+--------+--------+------+----------+--------------------+-------+------------+------------+----------+-----------+\n",
      "|sigla_uf|saldo_movimentacao|codigo_cbo|cbo                             |escolaridade     |idade|sexo  |admissao|demissao|etnia |sub_classe|segmento            |salario|regiao      |cnae_divisao|secao_cnae|competencia|\n",
      "+--------+------------------+----------+--------------------------------+-----------------+-----+------+--------+--------+------+----------+--------------------+-------+------------+------------+----------+-----------+\n",
      "|MG      |-1                |142105    |Gerente Administrativo          |Superior Completo|30   |Homem |0       |1       |Branca|4911600   |FERROVIÁRIO         |13000.0|SUDESTE     |49          |H         |2013-10    |\n",
      "|GO      |1                 |411005    |Auxiliar de Escritorio, em Geral|Médio Completo   |19   |Mulher|1       |0       |Branca|4930202   |TRANSPORTE DE CARGAS|796.0  |CENTRO-OESTE|49          |H         |2013-10    |\n",
      "|SP      |-1                |142330    |Analista de Negocios (A)        |Superior Completo|31   |Homem |0       |1       |Branca|4911600   |FERROVIÁRIO         |9969.0 |SUDESTE     |49          |H         |2013-10    |\n",
      "|SP      |-1                |411005    |Auxiliar de Escritorio, em Geral|Médio Completo   |23   |Homem |0       |1       |Branca|4930202   |TRANSPORTE DE CARGAS|1318.0 |SUDESTE     |49          |H         |2013-10    |\n",
      "|SP      |1                 |142330    |Analista de Negocios (A)        |Superior Completo|23   |Homem |1       |0       |Branca|4911600   |FERROVIÁRIO         |2300.0 |SUDESTE     |49          |H         |2013-10    |\n",
      "+--------+------------------+----------+--------------------------------+-----------------+-----+------+--------+--------+------+----------+--------------------+-------+------------+------------+----------+-----------+\n",
      "only showing top 5 rows\n",
      "\n"
     ]
    }
   ],
   "source": [
    "df_old.show(5, truncate=False)"
   ]
  },
  {
   "cell_type": "code",
   "execution_count": 11,
   "id": "2d8ac7e7",
   "metadata": {},
   "outputs": [],
   "source": [
    "df_old = df_old.withColumnRenamed(\"sigla_uf\", \"uf_sigla\") \\\n",
    "               .withColumnRenamed(\"secao_cnae\", \"secao\")"
   ]
  },
  {
   "cell_type": "code",
   "execution_count": 12,
   "id": "f4bcce44",
   "metadata": {},
   "outputs": [
    {
     "name": "stdout",
     "output_type": "stream",
     "text": [
      "root\n",
      " |-- competencia: integer (nullable = true)\n",
      " |-- uf: integer (nullable = true)\n",
      " |-- municipio: integer (nullable = true)\n",
      " |-- secao: string (nullable = true)\n",
      " |-- sub_classe: integer (nullable = true)\n",
      " |-- saldo_movimentacao: integer (nullable = true)\n",
      " |-- codigo_cbo: integer (nullable = true)\n",
      " |-- escolaridade: integer (nullable = true)\n",
      " |-- idade: integer (nullable = true)\n",
      " |-- etnia: integer (nullable = true)\n",
      " |-- sexo: integer (nullable = true)\n",
      " |-- salario: double (nullable = true)\n",
      " |-- salario_fixo: double (nullable = true)\n",
      "\n"
     ]
    }
   ],
   "source": [
    "df_bronze.printSchema()"
   ]
  },
  {
   "cell_type": "code",
   "execution_count": 13,
   "id": "8d626e75",
   "metadata": {},
   "outputs": [
    {
     "name": "stderr",
     "output_type": "stream",
     "text": [
      "[Stage 9:>                                                          (0 + 1) / 1]\r"
     ]
    },
    {
     "name": "stdout",
     "output_type": "stream",
     "text": [
      "+-----------+---+---------+-----+----------+------------------+----------+------------+-----+-----+----+-------+------------+\n",
      "|competencia|uf |municipio|secao|sub_classe|saldo_movimentacao|codigo_cbo|escolaridade|idade|etnia|sexo|salario|salario_fixo|\n",
      "+-----------+---+---------+-----+----------+------------------+----------+------------+-----+-----+----+-------+------------+\n",
      "|202502     |41 |410840   |M    |7112000   |-1                |715315    |7           |33   |1    |1   |2752.2 |2752.2      |\n",
      "|202502     |29 |290320   |G    |4781400   |1                 |521110    |7           |22   |3    |3   |1518.0 |1518.0      |\n",
      "|202502     |26 |261160   |G    |4781400   |1                 |763015    |7           |55   |1    |3   |2500.0 |2500.0      |\n",
      "|202502     |33 |330455   |I    |5620102   |1                 |513405    |7           |46   |3    |1   |0.0    |0.0         |\n",
      "|202502     |35 |350920   |M    |7119701   |1                 |312320    |7           |29   |3    |1   |1800.0 |1800.0      |\n",
      "+-----------+---+---------+-----+----------+------------------+----------+------------+-----+-----+----+-------+------------+\n",
      "only showing top 5 rows\n",
      "\n"
     ]
    },
    {
     "name": "stderr",
     "output_type": "stream",
     "text": [
      "                                                                                \r"
     ]
    }
   ],
   "source": [
    "df_bronze.show(5, truncate=False)"
   ]
  },
  {
   "cell_type": "code",
   "execution_count": 14,
   "id": "b44a45a0",
   "metadata": {},
   "outputs": [],
   "source": [
    "df_bronze = df_bronze.withColumn(\n",
    "    \"competencia\",\n",
    "    concat_ws(\n",
    "        \"-\",\n",
    "        substring(col(\"competencia\"), 1, 4),  # ano\n",
    "        substring(col(\"competencia\"), 5, 2)   # mês\n",
    "    )\n",
    ")"
   ]
  },
  {
   "cell_type": "code",
   "execution_count": 15,
   "id": "05816b41",
   "metadata": {},
   "outputs": [],
   "source": [
    "# Converte os DataFrames do Pandas em dicionários\n",
    "uf_dict           = {row['uf']: row['uf_desc'] for _, row in mapeamentos[\"uf\"].iterrows()}\n",
    "regiao_dict       = {row['regiao']: row['regiao_desc'] for _, row in mapeamentos[\"regiao\"].iterrows()}\n",
    "municipio_dict    = {row['municipio']: row['municipio_desc'] for _, row in mapeamentos[\"municipio\"].iterrows()}\n",
    "etnia_dict        = {row['etnia']: row['etnia_desc'] for _, row in mapeamentos[\"etnia\"].iterrows()}\n",
    "escolaridade_dict = {row['escolaridade']: row['escolaridade_desc'] for _, row in mapeamentos[\"escolaridade\"].iterrows()}\n",
    "cbo_dict          = {row['cbo']: row['cbo_desc'] for _, row in mapeamentos[\"cbo\"].iterrows()}\n",
    "subclasse_dict    = {row['sub_classe']: row['sub_classe_desc'] for _, row in mapeamentos[\"subclasse\"].iterrows()}"
   ]
  },
  {
   "cell_type": "code",
   "execution_count": 16,
   "id": "d2e1a5b5",
   "metadata": {},
   "outputs": [],
   "source": [
    "# Nome → Sigla\n",
    "uf_nome_para_sigla = {\n",
    "    \"Acre\": \"AC\", \"Alagoas\": \"AL\", \"Amazonas\": \"AM\", \"Amapá\": \"AP\", \"Bahia\": \"BA\", \"Ceará\": \"CE\",\n",
    "    \"Distrito Federal\": \"DF\", \"Espírito Santo\": \"ES\", \"Goiás\": \"GO\", \"Maranhão\": \"MA\", \"Mato Grosso\": \"MT\",\n",
    "    \"Mato Grosso do Sul\": \"MS\", \"Minas gerais\": \"MG\", \"Pará\": \"PA\", \"Paraíba\": \"PB\", \"Paraná\": \"PR\",\n",
    "    \"Pernambuco\": \"PE\", \"Piauí\": \"PI\", \"Rio de Janeiro\": \"RJ\", \"Rio Grande do Norte\": \"RN\",\n",
    "    \"Rio Grande do Sul\": \"RS\", \"Rondônia\": \"RO\", \"Roraima\": \"RR\", \"Santa Catarina\": \"SC\",\n",
    "    \"Sergipe\": \"SE\", \"São Paulo\": \"SP\", \"Tocantins\": \"TO\", \"Não identificado\": \"NI\"\n",
    "}\n",
    "\n",
    "# Sigla → Região\n",
    "uf_sigla_para_regiao = {\n",
    "    \"RO\": \"NORTE\", \"AC\": \"NORTE\", \"AM\": \"NORTE\", \"RR\": \"NORTE\", \"PA\": \"NORTE\", \"AP\": \"NORTE\", \"TO\": \"NORTE\",\n",
    "    \"MA\": \"NORDESTE\", \"PI\": \"NORDESTE\", \"CE\": \"NORDESTE\", \"RN\": \"NORDESTE\", \"PB\": \"NORDESTE\", \"PE\": \"NORDESTE\",\n",
    "    \"AL\": \"NORDESTE\", \"SE\": \"NORDESTE\", \"BA\": \"NORDESTE\",\n",
    "    \"MG\": \"SUDESTE\", \"ES\": \"SUDESTE\", \"RJ\": \"SUDESTE\", \"SP\": \"SUDESTE\",\n",
    "    \"PR\": \"SUL\", \"SC\": \"SUL\", \"RS\": \"SUL\",\n",
    "    \"MS\": \"CENTRO-OESTE\", \"MT\": \"CENTRO-OESTE\", \"GO\": \"CENTRO-OESTE\", \"DF\": \"CENTRO-OESTE\",\n",
    "    \"NI\": \"Não identificado\"\n",
    "}\n",
    "\n",
    "regiao_map = {\n",
    "    11: \"NORTE\", 12: \"NORTE\", 13: \"NORTE\", 14: \"NORTE\", 15: \"NORTE\", 16: \"NORTE\", 17: \"NORTE\",\n",
    "    21: \"NORDESTE\", 22: \"NORDESTE\", 23: \"NORDESTE\", 24: \"NORDESTE\", 25: \"NORDESTE\", 26: \"NORDESTE\",\n",
    "    27: \"NORDESTE\", 28: \"NORDESTE\", 29: \"NORDESTE\",\n",
    "    31: \"SUDESTE\", 32: \"SUDESTE\", 33: \"SUDESTE\", 35: \"SUDESTE\",\n",
    "    41: \"SUL\", 42: \"SUL\", 43: \"SUL\",\n",
    "    50: \"CENTRO-OESTE\", 51: \"CENTRO-OESTE\", 52: \"CENTRO-OESTE\", 53: \"CENTRO-OESTE\",\n",
    "    9: \"Não identificado\", 99: \"Não identificado\"\n",
    "}\n",
    "\n",
    "sub_classe_map = {\n",
    "    4930202: \"TRANSPORTE DE CARGAS\", 4930203: \"TRANSPORTE DE CARGAS\", 4930204: \"TRANSPORTE DE CARGAS\", 3600602: \"TRANSPORTE DE CARGAS\",\n",
    "    5212500: \"TRANSPORTE DE CARGAS\", 5229002: \"TRANSPORTE DE CARGAS\", 5320201: \"TRANSPORTE DE CARGAS\", 5320202: \"TRANSPORTE DE CARGAS\",\n",
    "    4921301: \"TRANSPORTE DE PASSAGEIROS\", 4921302: \"TRANSPORTE DE PASSAGEIROS\", 4922101: \"TRANSPORTE DE PASSAGEIROS\",\n",
    "    4922102: \"TRANSPORTE DE PASSAGEIROS\", 4922103: \"TRANSPORTE DE PASSAGEIROS\", 4923001: \"TRANSPORTE DE PASSAGEIROS\",\n",
    "    4924800: \"TRANSPORTE DE PASSAGEIROS\", 4929901: \"TRANSPORTE DE PASSAGEIROS\", 4929902: \"TRANSPORTE DE PASSAGEIROS\",\n",
    "    4929903: \"TRANSPORTE DE PASSAGEIROS\", 4929904: \"TRANSPORTE DE PASSAGEIROS\", 4929999: \"TRANSPORTE DE PASSAGEIROS\",\n",
    "    5229099: \"TRANSPORTE DE PASSAGEIROS\", 8622400: \"TRANSPORTE DE PASSAGEIROS\", 4681801: \"DISTRIBUIÇÃO DE PETRÓLEO\",\n",
    "    4681802: \"DISTRIBUIÇÃO DE PETRÓLEO\", 4681803: \"DISTRIBUIÇÃO DE PETRÓLEO\", 4681804: \"DISTRIBUIÇÃO DE PETRÓLEO\",\n",
    "    4681805: \"DISTRIBUIÇÃO DE PETRÓLEO\", 4682600: \"DISTRIBUIÇÃO DE PETRÓLEO\", 4923002: \"LOCAÇÃO DE VEÍCULO\",\n",
    "    7711000: \"LOCAÇÃO DE VEÍCULO\", 8012900: \"TRANSPORTE DE VALORES\", 5011401: \"AQUAVIÁRIO\", 5021102: \"AQUAVIÁRIO\",\n",
    "    5011402: \"AQUAVIÁRIO\", 5012201: \"AQUAVIÁRIO\", 5012202: \"AQUAVIÁRIO\", 5021101: \"AQUAVIÁRIO\", 5022001: \"AQUAVIÁRIO\",\n",
    "    5022002: \"AQUAVIÁRIO\", 5091201: \"AQUAVIÁRIO\", 5091202: \"AQUAVIÁRIO\", 5099801: \"AQUAVIÁRIO\", 5099899: \"AQUAVIÁRIO\",\n",
    "    5030101: \"AQUAVIÁRIO\", 5030102: \"PORTUÁRIO\", 5030103: \"PORTUÁRIO\", 5239799: \"PORTUÁRIO\", 5232000: \"AQUAVIÁRIO\",\n",
    "    4911600: \"FERROVIÁRIO\", 4912401: \"FERROVIÁRIO\", 4912402: \"FERROVIÁRIO\", 4912403: \"METROVIÁRIO\", 5231102: \"PORTUÁRIO\",\n",
    "    4291000: \"PORTUÁRIO\", 5231101: \"PORTUÁRIO\", 5111100: \"AÉREO\", 5112901: \"AÉREO\", 5112999: \"AÉREO\", 5240199: \"AÉREO\",\n",
    "    3316301: \"AÉREO\", 3316302: \"AÉREO\", 5240101: \"AÉREO\", 5120000: \"AÉREO\"\n",
    "}\n",
    "\n",
    "sexo_dict = {\n",
    "    1: \"Homem\",\n",
    "    3: \"Mulher\",\n",
    "    9: \"Não Identificado\"\n",
    "    \n",
    "}"
   ]
  },
  {
   "cell_type": "code",
   "execution_count": 17,
   "id": "f923be5b",
   "metadata": {},
   "outputs": [],
   "source": [
    "# Expressões de mapeamento\n",
    "regiao_expr = create_map([lit(x) for x in chain(*regiao_map.items())])\n",
    "segmento_expr = create_map([lit(x) for x in chain(*sub_classe_map.items())])\n",
    "sexo_expr = create_map([lit(x) for x in chain(*sexo_dict.items())])\n",
    "cbo_expr         = create_map([lit(x) for x in chain(*cbo_dict.items())])\n",
    "\n",
    "# Mapas Spark\n",
    "uf_codigo_to_nome_expr = create_map([lit(k) for k in chain(*uf_dict.items())])\n",
    "uf_nome_to_sigla_expr = create_map([lit(k) for k in chain(*uf_nome_para_sigla.items())])\n",
    "uf_sigla_to_regiao_expr = create_map([lit(k) for k in chain(*uf_sigla_para_regiao.items())])\n",
    "\n",
    "municipio_expr    = create_map([lit(x) for x in chain(*municipio_dict.items())])\n",
    "etnia_expr        = create_map([lit(x) for x in chain(*etnia_dict.items())])\n",
    "escolaridade_expr = create_map([lit(x) for x in chain(*escolaridade_dict.items())])"
   ]
  },
  {
   "cell_type": "code",
   "execution_count": 18,
   "id": "86de35d9",
   "metadata": {},
   "outputs": [],
   "source": [
    "# Garantir que os campos sejam inteiros para funcionar nos maps\n",
    "df_bronze = df_bronze \\\n",
    "    .withColumn(\"sub_classe\", col(\"sub_classe\").cast(\"int\")) \\\n",
    "    .withColumn(\"sexo\", col(\"sexo\").cast(\"int\")) \\\n",
    "    .withColumn(\"municipio\", col(\"municipio\").cast(\"int\")) \\\n",
    "    .withColumn(\"etnia\", col(\"etnia\").cast(\"int\")) \\\n",
    "    .withColumn(\"escolaridade\", col(\"escolaridade\").cast(\"int\"))"
   ]
  },
  {
   "cell_type": "code",
   "execution_count": 19,
   "id": "0c4c94d0",
   "metadata": {},
   "outputs": [],
   "source": [
    "# Aplicar mapeamento com getItem (em vez de UDF)\n",
    "df_bronze = df_bronze \\\n",
    "    .withColumn(\"segmento\", segmento_expr.getItem(col(\"sub_classe\"))) \\\n",
    "    .withColumn(\"sexo\", sexo_expr.getItem(col(\"sexo\"))) \\\n",
    "    .withColumn(\"salario\", round(col(\"salario\"), 2)) \\\n",
    "    .withColumn(\"salario_fixo\", round(col(\"salario_fixo\"), 2)) \\\n",
    "    .withColumn(\"municipio\", municipio_expr.getItem(col(\"municipio\"))) \\\n",
    "    .withColumn(\"etnia\", etnia_expr.getItem(col(\"etnia\"))) \\\n",
    "    .withColumn(\"escolaridade\", escolaridade_expr.getItem(col(\"escolaridade\"))) \\\n",
    "    .withColumn(\"uf_nome\", uf_codigo_to_nome_expr.getItem(col(\"uf\").cast(\"int\"))) \\\n",
    "    .withColumn(\"uf_sigla\", uf_nome_to_sigla_expr.getItem(col(\"uf_nome\"))) \\\n",
    "    .withColumn(\"regiao\", uf_sigla_to_regiao_expr.getItem(col(\"uf_sigla\"))) \\\n",
    "    .withColumn(\"cbo\", cbo_expr.getItem(col(\"codigo_cbo\"))) \\\n",
    "    .withColumn(\"admissao\", when(col(\"saldo_movimentacao\") == 1, 1).otherwise(0).cast(\"int\")) \\\n",
    "    .withColumn(\"demissao\", when(col(\"saldo_movimentacao\") == -1, 1).otherwise(0).cast(\"int\"))"
   ]
  },
  {
   "cell_type": "code",
   "execution_count": 20,
   "id": "465efd48",
   "metadata": {},
   "outputs": [],
   "source": [
    "df_bronze = df_bronze.withColumn(\n",
    "    \"segmento\",\n",
    "    when(col(\"segmento\").isNull(), \"OUTROS\").otherwise(col(\"segmento\"))\n",
    ")"
   ]
  },
  {
   "cell_type": "code",
   "execution_count": 21,
   "id": "27ee868d",
   "metadata": {},
   "outputs": [
    {
     "name": "stdout",
     "output_type": "stream",
     "text": [
      "+-----------+---+--------------------+-----+----------+------------------+----------+--------------+-----+------+------+-------+------------+--------+--------------+--------+--------+---------------------------------------+--------+--------+\n",
      "|competencia|uf |municipio           |secao|sub_classe|saldo_movimentacao|codigo_cbo|escolaridade  |idade|etnia |sexo  |salario|salario_fixo|segmento|uf_nome       |uf_sigla|regiao  |cbo                                    |admissao|demissao|\n",
      "+-----------+---+--------------------+-----+----------+------------------+----------+--------------+-----+------+------+-------+------------+--------+--------------+--------+--------+---------------------------------------+--------+--------+\n",
      "|2025-02    |41 |Pr-Francisco Beltrao|M    |7112000   |-1                |715315    |Médio Completo|33   |Branca|Homem |2752.2 |2752.2      |OUTROS  |Paraná        |PR      |SUL     |Armador de Estrutura de Concreto Armado|0       |1       |\n",
      "|2025-02    |29 |Ba-Barreiras        |G    |4781400   |1                 |521110    |Médio Completo|22   |Parda |Mulher|1518.0 |1518.0      |OUTROS  |Bahia         |BA      |NORDESTE|Vendedor de Comercio Varejista         |1       |0       |\n",
      "|2025-02    |26 |Pe-Recife           |G    |4781400   |1                 |763015    |Médio Completo|55   |Branca|Mulher|2500.0 |2500.0      |OUTROS  |Pernambuco    |PE      |NORDESTE|Costureira de Reparacao de Roupas      |1       |0       |\n",
      "|2025-02    |33 |Rj-Rio de Janeiro   |I    |5620102   |1                 |513405    |Médio Completo|46   |Parda |Homem |0.0    |0.0         |OUTROS  |Rio de Janeiro|RJ      |SUDESTE |Garcom                                 |1       |0       |\n",
      "|2025-02    |35 |Sp-Cajamar          |M    |7119701   |1                 |312320    |Médio Completo|29   |Parda |Homem |1800.0 |1800.0      |OUTROS  |São Paulo     |SP      |SUDESTE |Topografo                              |1       |0       |\n",
      "+-----------+---+--------------------+-----+----------+------------------+----------+--------------+-----+------+------+-------+------------+--------+--------------+--------+--------+---------------------------------------+--------+--------+\n",
      "only showing top 5 rows\n",
      "\n"
     ]
    }
   ],
   "source": [
    "df_bronze.show(5, truncate=False)"
   ]
  },
  {
   "cell_type": "code",
   "execution_count": 22,
   "id": "782663f0",
   "metadata": {},
   "outputs": [
    {
     "data": {
      "text/plain": [
       "222731869"
      ]
     },
     "execution_count": 22,
     "metadata": {},
     "output_type": "execute_result"
    }
   ],
   "source": [
    "df_bronze.count()"
   ]
  },
  {
   "cell_type": "code",
   "execution_count": 23,
   "id": "bfb06416",
   "metadata": {},
   "outputs": [
    {
     "name": "stdout",
     "output_type": "stream",
     "text": [
      "root\n",
      " |-- uf_sigla: string (nullable = true)\n",
      " |-- saldo_movimentacao: integer (nullable = true)\n",
      " |-- codigo_cbo: string (nullable = true)\n",
      " |-- cbo: string (nullable = true)\n",
      " |-- escolaridade: string (nullable = true)\n",
      " |-- idade: byte (nullable = true)\n",
      " |-- sexo: string (nullable = true)\n",
      " |-- admissao: integer (nullable = true)\n",
      " |-- demissao: integer (nullable = true)\n",
      " |-- etnia: string (nullable = true)\n",
      " |-- sub_classe: string (nullable = true)\n",
      " |-- segmento: string (nullable = true)\n",
      " |-- salario: float (nullable = true)\n",
      " |-- regiao: string (nullable = true)\n",
      " |-- cnae_divisao: string (nullable = true)\n",
      " |-- secao: string (nullable = true)\n",
      " |-- competencia: string (nullable = true)\n",
      "\n"
     ]
    }
   ],
   "source": [
    "df_old.printSchema()"
   ]
  },
  {
   "cell_type": "code",
   "execution_count": 24,
   "id": "1983ca0d",
   "metadata": {},
   "outputs": [],
   "source": [
    "df_bronze = df_bronze.select('competencia', 'saldo_movimentacao', 'secao', 'sub_classe', 'segmento', 'codigo_cbo', 'cbo', 'idade', 'etnia', 'sexo', 'salario','escolaridade', 'uf_sigla', 'regiao', 'admissao', 'demissao')"
   ]
  },
  {
   "cell_type": "code",
   "execution_count": 25,
   "id": "935496ce",
   "metadata": {},
   "outputs": [
    {
     "data": {
      "text/plain": [
       "222731869"
      ]
     },
     "execution_count": 25,
     "metadata": {},
     "output_type": "execute_result"
    }
   ],
   "source": [
    "df_bronze.count()"
   ]
  },
  {
   "cell_type": "code",
   "execution_count": 26,
   "id": "9c8ed0a3",
   "metadata": {},
   "outputs": [],
   "source": [
    "df_old = df_old.select('competencia', 'saldo_movimentacao', 'secao', 'sub_classe', 'segmento', 'codigo_cbo', 'cbo', 'idade', 'etnia', 'sexo', 'salario','escolaridade', 'uf_sigla', 'regiao', 'admissao', 'demissao')"
   ]
  },
  {
   "cell_type": "code",
   "execution_count": 27,
   "id": "c2259f2c",
   "metadata": {},
   "outputs": [
    {
     "data": {
      "text/plain": [
       "17993875"
      ]
     },
     "execution_count": 27,
     "metadata": {},
     "output_type": "execute_result"
    }
   ],
   "source": [
    "df_old.count()"
   ]
  },
  {
   "cell_type": "code",
   "execution_count": 28,
   "id": "413262be",
   "metadata": {},
   "outputs": [],
   "source": [
    "df = df_bronze.unionByName(df_old)"
   ]
  },
  {
   "cell_type": "code",
   "execution_count": 29,
   "id": "566a01f8",
   "metadata": {},
   "outputs": [
    {
     "name": "stderr",
     "output_type": "stream",
     "text": [
      "                                                                                \r"
     ]
    },
    {
     "data": {
      "text/plain": [
       "240725744"
      ]
     },
     "execution_count": 29,
     "metadata": {},
     "output_type": "execute_result"
    }
   ],
   "source": [
    "df.count()"
   ]
  },
  {
   "cell_type": "code",
   "execution_count": null,
   "id": "d8cfe4de",
   "metadata": {},
   "outputs": [],
   "source": [
    "spark.stop()"
   ]
  },
  {
   "cell_type": "code",
   "execution_count": null,
   "id": "3e959140",
   "metadata": {},
   "outputs": [],
   "source": []
  },
  {
   "cell_type": "code",
   "execution_count": null,
   "id": "44eb56d4",
   "metadata": {},
   "outputs": [],
   "source": []
  },
  {
   "cell_type": "code",
   "execution_count": null,
   "id": "4203e00f",
   "metadata": {},
   "outputs": [],
   "source": []
  },
  {
   "cell_type": "code",
   "execution_count": null,
   "id": "06204b2f",
   "metadata": {},
   "outputs": [],
   "source": []
  },
  {
   "cell_type": "code",
   "execution_count": null,
   "id": "9ed18f83",
   "metadata": {},
   "outputs": [],
   "source": []
  }
 ],
 "metadata": {
  "kernelspec": {
   "display_name": ".venv",
   "language": "python",
   "name": "python3"
  },
  "language_info": {
   "codemirror_mode": {
    "name": "ipython",
    "version": 3
   },
   "file_extension": ".py",
   "mimetype": "text/x-python",
   "name": "python",
   "nbconvert_exporter": "python",
   "pygments_lexer": "ipython3",
   "version": "3.10.12"
  }
 },
 "nbformat": 4,
 "nbformat_minor": 5
}
